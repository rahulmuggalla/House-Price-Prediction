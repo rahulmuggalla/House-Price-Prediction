{
  "cells": [
    {
      "cell_type": "code",
      "execution_count": 85,
      "metadata": {
        "id": "exQXk-M71ejw"
      },
      "outputs": [],
      "source": [
        "import requests\n",
        "from bs4 import BeautifulSoup\n",
        "from IPython.display import clear_output\n",
        "import time\n",
        "import pandas as pd\n",
        "import re"
      ]
    },
    {
      "cell_type": "code",
      "execution_count": 2,
      "metadata": {
        "colab": {
          "base_uri": "https://localhost:8080/"
        },
        "id": "v2tsWa6E2RUL",
        "outputId": "39850e3a-3d94-429b-8174-380fe34ffab3"
      },
      "outputs": [
        {
          "data": {
            "text/plain": [
              "<Response [200]>"
            ]
          },
          "execution_count": 2,
          "metadata": {},
          "output_type": "execute_result"
        }
      ],
      "source": [
        "#checking url status\n",
        "url = 'https://www.makaan.com/vijayawada-residential-property/buy-property-in-vijayawada-city?propertyType=apartment,builder-floor,villa,residential-plot,independent-house,studio-apartment'\n",
        "data = requests.get(url)\n",
        "data"
      ]
    },
    {
      "cell_type": "code",
      "execution_count": 3,
      "metadata": {
        "id": "DLfPCJdV2Xuw"
      },
      "outputs": [],
      "source": [
        "#getting content from html\n",
        "soup = BeautifulSoup(data.content,'html')"
      ]
    },
    {
      "cell_type": "code",
      "execution_count": 9,
      "metadata": {
        "colab": {
          "base_uri": "https://localhost:8080/",
          "height": 36
        },
        "id": "NQwKYXIA4Cz_",
        "outputId": "8bbe4c7d-dc45-4041-a7cb-71f8f0946367"
      },
      "outputs": [
        {
          "data": {
            "application/vnd.google.colaboratory.intrinsic+json": {
              "type": "string"
            },
            "text/plain": [
              "'3 '"
            ]
          },
          "execution_count": 9,
          "metadata": {},
          "output_type": "execute_result"
        }
      ],
      "source": [
        "soup.find('a',attrs={'class':'typelink'}).span.text"
      ]
    },
    {
      "cell_type": "code",
      "execution_count": 72,
      "metadata": {
        "colab": {
          "base_uri": "https://localhost:8080/"
        },
        "id": "PNFi4VVa5QY9",
        "outputId": "78be10e6-c49c-4948-d410-06e2941a9b11"
      },
      "outputs": [
        {
          "data": {
            "text/plain": [
              "['3',\n",
              " '2',\n",
              " '2',\n",
              " '2',\n",
              " '2',\n",
              " '2',\n",
              " '3',\n",
              " '3',\n",
              " '3',\n",
              " '2',\n",
              " '2',\n",
              " '3',\n",
              " '6',\n",
              " '0',\n",
              " '0',\n",
              " '0',\n",
              " '3',\n",
              " '3',\n",
              " '2',\n",
              " '3']"
            ]
          },
          "execution_count": 72,
          "metadata": {},
          "output_type": "execute_result"
        }
      ],
      "source": [
        "#getting product name\n",
        "a = soup.find_all('a',attrs={'class':'typelink'})\n",
        "Bedroom = []\n",
        "for i in a:\n",
        "  i = i.span.text\n",
        "  i = i.replace('Residential Plot', '0').replace(' ', '')\n",
        "  Bedroom.append(i)\n",
        "Bedroom"
      ]
    },
    {
      "cell_type": "code",
      "execution_count": 11,
      "metadata": {
        "colab": {
          "base_uri": "https://localhost:8080/",
          "height": 36
        },
        "id": "d2moH6Q-4WDE",
        "outputId": "81a14c95-ba27-469f-fa97-1b7f5a6113e3"
      },
      "outputs": [
        {
          "data": {
            "application/vnd.google.colaboratory.intrinsic+json": {
              "type": "string"
            },
            "text/plain": [
              "'Poranki'"
            ]
          },
          "execution_count": 11,
          "metadata": {},
          "output_type": "execute_result"
        }
      ],
      "source": [
        "soup.find('span',attrs={'itemprop':'addressLocality'}).text"
      ]
    },
    {
      "cell_type": "code",
      "execution_count": 73,
      "metadata": {
        "colab": {
          "base_uri": "https://localhost:8080/"
        },
        "id": "XAJ0vl7D2b3T",
        "outputId": "50f70ccd-4e30-4143-d01e-8a6deed0ec78"
      },
      "outputs": [
        {
          "data": {
            "text/plain": [
              "['Poranki',\n",
              " 'Poranki',\n",
              " 'Kankipadu',\n",
              " 'PNT Colony',\n",
              " 'Labbipet',\n",
              " 'Poranki',\n",
              " 'Gannavaram',\n",
              " 'Gunadala',\n",
              " 'Gollapudi',\n",
              " 'Enikepadu',\n",
              " 'Benz Circle',\n",
              " 'Vidhyadharpuram',\n",
              " 'Penamaluru',\n",
              " 'Kankipadu',\n",
              " 'Poranki',\n",
              " 'Kankipadu',\n",
              " 'Benz Circle',\n",
              " 'Gannavaram',\n",
              " 'Payakapuram',\n",
              " 'Benz Circle']"
            ]
          },
          "execution_count": 73,
          "metadata": {},
          "output_type": "execute_result"
        }
      ],
      "source": [
        "#getting product name\n",
        "b = soup.find_all('span',attrs={'itemprop':'addressLocality'})\n",
        "Location = [i.text for i in b]\n",
        "Location"
      ]
    },
    {
      "cell_type": "code",
      "execution_count": 25,
      "metadata": {
        "colab": {
          "base_uri": "https://localhost:8080/",
          "height": 36
        },
        "id": "Ah-yDNyt7L_E",
        "outputId": "0cde5764-7f99-45e5-afe1-33d81b89b444"
      },
      "outputs": [
        {
          "data": {
            "application/vnd.google.colaboratory.intrinsic+json": {
              "type": "string"
            },
            "text/plain": [
              "' 55.5 L'"
            ]
          },
          "execution_count": 25,
          "metadata": {},
          "output_type": "execute_result"
        }
      ],
      "source": [
        "soup.find('div',attrs={'data-type':'price-link'}).text"
      ]
    },
    {
      "cell_type": "code",
      "execution_count": 78,
      "metadata": {
        "colab": {
          "base_uri": "https://localhost:8080/"
        },
        "id": "rqAwNQloHIdW",
        "outputId": "cc7ca3ec-da9d-4a6d-f9d4-bd3538bf4c48"
      },
      "outputs": [
        {
          "data": {
            "text/plain": [
              "[55.5,\n",
              " 48.0,\n",
              " 50.0,\n",
              " 72.0,\n",
              " 60.0,\n",
              " 40.0,\n",
              " 59.86,\n",
              " 56.0,\n",
              " 89.0,\n",
              " 39.0,\n",
              " 59.0,\n",
              " 95.0,\n",
              " 110.00000000000001,\n",
              " 16.83,\n",
              " 33.0,\n",
              " 20.0,\n",
              " 166.0,\n",
              " 72.0,\n",
              " 56.0,\n",
              " 166.0]"
            ]
          },
          "execution_count": 78,
          "metadata": {},
          "output_type": "execute_result"
        }
      ],
      "source": [
        "c = soup.find_all('div', attrs={'data-type': 'price-link'})\n",
        "\n",
        "Price = []\n",
        "for i in c:\n",
        "    i = i.text.strip()  # Strip leading/trailing whitespaces\n",
        "    if 'Cr' in i:\n",
        "        i = i.replace(' Cr', '')  # Remove 'Cr' from the string\n",
        "        i = float(i) * 100  # Convert value from crores to lakhs\n",
        "    else:\n",
        "        i = i.replace(' L', '')  # Remove 'L' from the string\n",
        "        i = float(i)\n",
        "    Price.append(i)\n",
        "Price"
      ]
    },
    {
      "cell_type": "code",
      "execution_count": 30,
      "metadata": {
        "colab": {
          "base_uri": "https://localhost:8080/",
          "height": 36
        },
        "id": "vFdfnHcR7eQu",
        "outputId": "897882e3-90d9-4ec5-cf53-d41440fc0a2f"
      },
      "outputs": [
        {
          "data": {
            "application/vnd.google.colaboratory.intrinsic+json": {
              "type": "string"
            },
            "text/plain": [
              "'1587 '"
            ]
          },
          "execution_count": 30,
          "metadata": {},
          "output_type": "execute_result"
        }
      ],
      "source": [
        "soup.find('td',attrs={'class':'size'}).text"
      ]
    },
    {
      "cell_type": "code",
      "execution_count": 79,
      "metadata": {
        "colab": {
          "base_uri": "https://localhost:8080/"
        },
        "id": "zgyS3ixr63Em",
        "outputId": "01ccc902-b1c3-4da0-8f27-5bbcbf4fc10d"
      },
      "outputs": [
        {
          "data": {
            "text/plain": [
              "['1587',\n",
              " '1450',\n",
              " '1290',\n",
              " '1400',\n",
              " '950',\n",
              " '1200',\n",
              " '1663',\n",
              " '1500',\n",
              " '2062',\n",
              " '1250',\n",
              " '1350',\n",
              " '1600',\n",
              " '3700',\n",
              " '1782',\n",
              " '1800',\n",
              " '1500',\n",
              " '2317',\n",
              " '1650',\n",
              " '1000',\n",
              " '2317']"
            ]
          },
          "execution_count": 79,
          "metadata": {},
          "output_type": "execute_result"
        }
      ],
      "source": [
        "#getting product name\n",
        "c = soup.find_all('td',attrs={'class':'size'})\n",
        "\n",
        "Size = []\n",
        "for i in c:\n",
        "  i = i.text\n",
        "  i = i.replace(' ', '')\n",
        "  Size.append(i)\n",
        "Size"
      ]
    },
    {
      "cell_type": "code",
      "execution_count": 33,
      "metadata": {
        "colab": {
          "base_uri": "https://localhost:8080/",
          "height": 36
        },
        "id": "ajEBi0Ju8CRu",
        "outputId": "ff9cbca0-8e21-4ce5-d8b3-59e923e5b87f"
      },
      "outputs": [
        {
          "data": {
            "application/vnd.google.colaboratory.intrinsic+json": {
              "type": "string"
            },
            "text/plain": [
              "'Ready to move'"
            ]
          },
          "execution_count": 33,
          "metadata": {},
          "output_type": "execute_result"
        }
      ],
      "source": [
        "soup.find('td',attrs={'class':'val'}).text"
      ]
    },
    {
      "cell_type": "code",
      "execution_count": 80,
      "metadata": {
        "colab": {
          "base_uri": "https://localhost:8080/"
        },
        "id": "h-XwU2DQ7pdt",
        "outputId": "9bd7bbf8-3665-4053-8a81-a60a63da4f4d"
      },
      "outputs": [
        {
          "data": {
            "text/plain": [
              "['Ready to move',\n",
              " 'Ready to move',\n",
              " 'Under Construction',\n",
              " 'Ready to move',\n",
              " 'Ready to move',\n",
              " 'Ready to move',\n",
              " 'Ready to move',\n",
              " 'Ready to move',\n",
              " 'Ready to move',\n",
              " 'Ready to move',\n",
              " 'Ready to move',\n",
              " 'Under Construction',\n",
              " 'Ready to move',\n",
              " 'Resale',\n",
              " 'Resale',\n",
              " 'Resale',\n",
              " 'Under Construction',\n",
              " 'Ready to move',\n",
              " 'Ready to move',\n",
              " 'Under Construction']"
            ]
          },
          "execution_count": 80,
          "metadata": {},
          "output_type": "execute_result"
        }
      ],
      "source": [
        "#getting product name\n",
        "c = soup.find_all('td',attrs={'class':'val'})\n",
        "\n",
        "status = []\n",
        "for i in c:\n",
        "  i = i.text\n",
        "  status.append(i)\n",
        "status"
      ]
    },
    {
      "cell_type": "code",
      "execution_count": 34,
      "metadata": {
        "colab": {
          "base_uri": "https://localhost:8080/",
          "height": 36
        },
        "id": "bY0WP3fG8BUA",
        "outputId": "1298645e-c5e6-43ab-d722-4d9f7cc59b2a"
      },
      "outputs": [
        {
          "data": {
            "application/vnd.google.colaboratory.intrinsic+json": {
              "type": "string"
            },
            "text/plain": [
              "'3 BathroomsResale West facing'"
            ]
          },
          "execution_count": 34,
          "metadata": {},
          "output_type": "execute_result"
        }
      ],
      "source": [
        "soup.find('ul',attrs={'class':'listing-details'}).text"
      ]
    },
    {
      "cell_type": "code",
      "execution_count": 35,
      "metadata": {
        "colab": {
          "base_uri": "https://localhost:8080/"
        },
        "id": "dhcgxbtM8SBx",
        "outputId": "47d9cfc2-5c1f-4895-e924-6dc7c97042a9"
      },
      "outputs": [
        {
          "data": {
            "text/plain": [
              "['3 BathroomsResale West facing',\n",
              " '2 BathroomsResale ',\n",
              " '2 BathroomsResale NorthEast facing',\n",
              " '4 - 5 years old4 BathroomsResale ',\n",
              " '2 BathroomsResale East facing',\n",
              " '2 BathroomsResale ',\n",
              " '3 BathroomsResale East facing',\n",
              " '3 BathroomsResale ',\n",
              " '3 BathroomsResale ',\n",
              " '2 BathroomsResale ',\n",
              " '2 BathroomsResale East facing',\n",
              " '3 BathroomsResale West facing',\n",
              " '6 - 7 years old7 BathroomsResale ',\n",
              " '1 - 2 years old',\n",
              " '1 open sidesWest facing',\n",
              " '6 - 7 years old',\n",
              " '3 BathroomsNew East facing',\n",
              " '2 years old3 BathroomsNew ',\n",
              " '5 years old2 BathroomsNew ',\n",
              " '3 BathroomsNew East facing']"
            ]
          },
          "execution_count": 35,
          "metadata": {},
          "output_type": "execute_result"
        }
      ],
      "source": [
        "#getting product name\n",
        "c = soup.find_all('ul',attrs={'class':'listing-details'})\n",
        "\n",
        "details = []\n",
        "for i in c:\n",
        "  i = i.text\n",
        "  details.append(i)\n",
        "details"
      ]
    },
    {
      "cell_type": "code",
      "execution_count": 81,
      "metadata": {
        "id": "eMvv-NryCjG2"
      },
      "outputs": [],
      "source": [
        "c = soup.find_all('ul', attrs={'class': 'listing-details'})\n",
        "\n",
        "Bathroom = []\n",
        "Facing = []\n",
        "\n",
        "for i in c:\n",
        "    i = i.text\n",
        "    bathroom_count = re.findall(r'(\\d+) Bathrooms', i)\n",
        "    if bathroom_count:\n",
        "        Bathroom.append(int(bathroom_count[0]))\n",
        "    else:\n",
        "        Bathroom.append(0)\n",
        "        \n",
        "    facing_direction = re.findall(r'(North|South|East|West|NorthEast|NorthWest|SouthEast|SouthWest) facing', i)\n",
        "    if facing_direction:\n",
        "        Facing.append(facing_direction[0])\n",
        "    else:\n",
        "        Facing.append(0)"
      ]
    },
    {
      "cell_type": "code",
      "execution_count": 82,
      "metadata": {
        "colab": {
          "base_uri": "https://localhost:8080/"
        },
        "id": "YQ9dd-29DP2d",
        "outputId": "dec6c600-ff46-466d-bae8-35dd9e4f2c14"
      },
      "outputs": [
        {
          "data": {
            "text/plain": [
              "[3, 2, 2, 4, 2, 2, 3, 3, 3, 2, 2, 3, 7, 0, 0, 0, 3, 3, 2, 3]"
            ]
          },
          "execution_count": 82,
          "metadata": {},
          "output_type": "execute_result"
        }
      ],
      "source": [
        "Bathroom"
      ]
    },
    {
      "cell_type": "code",
      "execution_count": 83,
      "metadata": {
        "colab": {
          "base_uri": "https://localhost:8080/"
        },
        "id": "lXD9m6MNDOxN",
        "outputId": "5ed09a9f-d024-4f72-d2a1-658a79bfa2e4"
      },
      "outputs": [
        {
          "data": {
            "text/plain": [
              "['West',\n",
              " 0,\n",
              " 'NorthEast',\n",
              " 0,\n",
              " 'East',\n",
              " 0,\n",
              " 'East',\n",
              " 0,\n",
              " 0,\n",
              " 0,\n",
              " 'East',\n",
              " 'West',\n",
              " 0,\n",
              " 0,\n",
              " 'West',\n",
              " 0,\n",
              " 'East',\n",
              " 0,\n",
              " 0,\n",
              " 'East']"
            ]
          },
          "execution_count": 83,
          "metadata": {},
          "output_type": "execute_result"
        }
      ],
      "source": [
        "Facing"
      ]
    },
    {
      "cell_type": "code",
      "execution_count": 62,
      "metadata": {
        "colab": {
          "base_uri": "https://localhost:8080/",
          "height": 36
        },
        "id": "FrGnO_P4DSAy",
        "outputId": "667b5a69-f7bc-4836-bb58-09242200e0c0"
      },
      "outputs": [
        {
          "data": {
            "application/vnd.google.colaboratory.intrinsic+json": {
              "type": "string"
            },
            "text/plain": [
              "'3 BHK Apartment'"
            ]
          },
          "execution_count": 62,
          "metadata": {},
          "output_type": "execute_result"
        }
      ],
      "source": [
        "soup.find('div',attrs={'class':'title-line'}).text"
      ]
    },
    {
      "cell_type": "code",
      "execution_count": 65,
      "metadata": {
        "colab": {
          "base_uri": "https://localhost:8080/"
        },
        "id": "OSXcWjPLD2VV",
        "outputId": "455a51cb-b67e-499d-d2bb-db5939ec6850"
      },
      "outputs": [
        {
          "data": {
            "text/plain": [
              "['3 BHK Apartment',\n",
              " '2 BHK Apartment',\n",
              " '2 BHK Independent House',\n",
              " '2 BHK Independent House',\n",
              " '2 BHK Apartment',\n",
              " '2 BHK Apartment in Hycon Elite',\n",
              " '3 BHK Apartment',\n",
              " '3 BHK Independent Floor',\n",
              " '3 BHK Apartment',\n",
              " '2 BHK Apartment',\n",
              " '2 BHK Independent House',\n",
              " '3 BHK Independent Floor',\n",
              " '6 BHK Independent House',\n",
              " 'Residential Plot in Harivillu Fortune Legendary',\n",
              " 'Residential Plot',\n",
              " 'Residential Plot',\n",
              " '3 BHK Apartment in Pooja Tree Storey',\n",
              " '3 BHK Apartment in Sri Naga Sun Rise Enclave',\n",
              " '2 BHK Independent House',\n",
              " '3 BHK Apartment in Pooja Tree Storey']"
            ]
          },
          "execution_count": 65,
          "metadata": {},
          "output_type": "execute_result"
        }
      ],
      "source": [
        "#getting product name\n",
        "d = soup.find_all('div',attrs={'class':'title-line'})\n",
        "\n",
        "info = []\n",
        "for i in d:\n",
        "  i = i.text\n",
        "  info.append(i)\n",
        "info"
      ]
    },
    {
      "cell_type": "code",
      "execution_count": 86,
      "metadata": {
        "colab": {
          "base_uri": "https://localhost:8080/"
        },
        "id": "dUlFdAmWIgjM",
        "outputId": "a0534d34-c4d5-4382-fedd-cbea419fb1a7"
      },
      "outputs": [
        {
          "data": {
            "text/plain": [
              "['Apartment',\n",
              " 'Apartment',\n",
              " 'Independent House',\n",
              " 'Independent House',\n",
              " 'Apartment',\n",
              " 'Apartment',\n",
              " 'Apartment',\n",
              " 'Apartment',\n",
              " 'Apartment',\n",
              " 'Independent House',\n",
              " 'Independent House',\n",
              " 'Residential Plot',\n",
              " 'Residential Plot',\n",
              " 'Residential Plot',\n",
              " 'Apartment',\n",
              " 'Apartment',\n",
              " 'Independent House',\n",
              " 'Apartment']"
            ]
          },
          "execution_count": 86,
          "metadata": {},
          "output_type": "execute_result"
        }
      ],
      "source": [
        "d = soup.find_all('div', attrs={'class': 'title-line'})\n",
        "\n",
        "property_types = ['Apartment', 'Builder Floor', 'Villa', 'Residential Plot', 'Independent House', 'Studio Apartment']\n",
        "Type = []\n",
        "\n",
        "for i in d:\n",
        "    i = i.text\n",
        "    for p_type in property_types:\n",
        "        if p_type in i:\n",
        "            Type.append(p_type)\n",
        "\n",
        "Type"
      ]
    },
    {
      "cell_type": "code",
      "execution_count": 113,
      "metadata": {
        "colab": {
          "base_uri": "https://localhost:8080/"
        },
        "id": "RlbZSwrRGcKN",
        "outputId": "f47ad5c2-20bd-4711-b4a3-49a383b29d29"
      },
      "outputs": [
        {
          "name": "stdout",
          "output_type": "stream",
          "text": [
            "Scraping info from page 62 \n"
          ]
        }
      ],
      "source": [
        "Bedroom = []\n",
        "Location = []\n",
        "Price = []\n",
        "Size = []\n",
        "Status = []\n",
        "Bathroom = []\n",
        "Facing = []\n",
        "Type = []\n",
        "property_types = ['Apartment', 'Builder Floor', 'Villa', 'Residential Plot', 'Independent House', 'Studio Apartment']\n",
        "\n",
        "for i in range(1,63):\n",
        "  url = url+str(i)\n",
        "\n",
        "  print(f'Scraping info from page {i} ')\n",
        "  clear_output(wait=True)\n",
        "\n",
        "  #we are pausing for 3 sec\n",
        "  time.sleep(3)\n",
        "  response = requests.get(url)\n",
        "  soup = BeautifulSoup(response.text,'html')\n",
        "\n",
        "  a = soup.find_all('a',attrs={'class':'typelink'})\n",
        "  for i in a:\n",
        "    i = i.span.text\n",
        "    i = i.replace('Residential Plot', '0').replace(' ', '')\n",
        "    Bedroom.append(i)\n",
        "\n",
        "  b = soup.find_all('span',attrs={'itemprop':'addressLocality'})\n",
        "  for i in b:\n",
        "    Location.append(i.text)\n",
        "\n",
        "  c = soup.find_all('div', attrs={'data-type': 'price-link'})\n",
        "  for i in c:\n",
        "      i = i.text.strip()  # Strip leading/trailing whitespaces\n",
        "      if 'Cr' in i:\n",
        "          i = i.replace(' Cr', '')  # Remove 'Cr' from the string\n",
        "          i = float(i) * 100  # Convert value from crores to lakhs\n",
        "      else:\n",
        "          i = i.replace(' L', '')  # Remove 'L' from the string\n",
        "          i = float(i)\n",
        "      Price.append(i)\n",
        "\n",
        "  d = soup.find_all('td',attrs={'class':'size'})\n",
        "  for i in d:\n",
        "    i = i.text\n",
        "    i = i.replace(' ', '')\n",
        "    Size.append(i)\n",
        "\n",
        "  e = soup.find_all('td',attrs={'class':'val'})\n",
        "  for i in e:\n",
        "    i = i.text\n",
        "    status.append(i)\n",
        "\n",
        "  f = soup.find_all('ul', attrs={'class': 'listing-details'})\n",
        "  for i in f:\n",
        "      i = i.text\n",
        "      bathroom_count = re.findall(r'(\\d+) Bathrooms', i)\n",
        "      if bathroom_count:\n",
        "          Bathroom.append(int(bathroom_count[0]))\n",
        "      else:\n",
        "          Bathroom.append('0')\n",
        "          \n",
        "      facing_direction = re.findall(r'(North|South|East|West|NorthEast|NorthWest|SouthEast|SouthWest) facing', i)\n",
        "      if facing_direction:\n",
        "          Facing.append(facing_direction[0])\n",
        "      else:\n",
        "          Facing.append('0')\n",
        "\n",
        "  g = soup.find_all('div', attrs={'class': 'title-line'})\n",
        "  for i in g:\n",
        "      i = i.text\n",
        "      for p_type in property_types:\n",
        "          if p_type in i:\n",
        "              Type.append(p_type)"
      ]
    },
    {
      "cell_type": "code",
      "execution_count": 114,
      "metadata": {
        "colab": {
          "base_uri": "https://localhost:8080/"
        },
        "id": "fUwtM49MJgM-",
        "outputId": "a1ffbacd-e844-40f7-b7d3-6955359477a1"
      },
      "outputs": [
        {
          "name": "stdout",
          "output_type": "stream",
          "text": [
            "1240\n",
            "1240\n",
            "1240\n",
            "1240\n",
            "2480\n",
            "1240\n",
            "1240\n",
            "1116\n"
          ]
        }
      ],
      "source": [
        "print(len(Bedroom))\n",
        "print(len(Location))\n",
        "print(len(Price))\n",
        "print(len(Size))\n",
        "print(len(status))\n",
        "print(len(Bathroom))\n",
        "print(len(Facing))\n",
        "print(len(Type))"
      ]
    },
    {
      "cell_type": "code",
      "execution_count": 115,
      "metadata": {
        "colab": {
          "base_uri": "https://localhost:8080/",
          "height": 423
        },
        "id": "4KMaymYWJwNa",
        "outputId": "1cd5b0c8-1f91-47c1-d14f-474a5f8b831e"
      },
      "outputs": [
        {
          "data": {
            "text/html": [
              "\n",
              "  <div id=\"df-1cece8ef-6b67-474a-8b06-f89c6bc0021a\">\n",
              "    <div class=\"colab-df-container\">\n",
              "      <div>\n",
              "<style scoped>\n",
              "    .dataframe tbody tr th:only-of-type {\n",
              "        vertical-align: middle;\n",
              "    }\n",
              "\n",
              "    .dataframe tbody tr th {\n",
              "        vertical-align: top;\n",
              "    }\n",
              "\n",
              "    .dataframe thead th {\n",
              "        text-align: right;\n",
              "    }\n",
              "</style>\n",
              "<table border=\"1\" class=\"dataframe\">\n",
              "  <thead>\n",
              "    <tr style=\"text-align: right;\">\n",
              "      <th></th>\n",
              "      <th>Bedroom</th>\n",
              "      <th>Bathroom</th>\n",
              "      <th>Location</th>\n",
              "      <th>Size</th>\n",
              "      <th>status</th>\n",
              "      <th>Facing</th>\n",
              "      <th>Type</th>\n",
              "      <th>Price</th>\n",
              "    </tr>\n",
              "  </thead>\n",
              "  <tbody>\n",
              "    <tr>\n",
              "      <th>0</th>\n",
              "      <td>3</td>\n",
              "      <td>3</td>\n",
              "      <td>Poranki</td>\n",
              "      <td>1587</td>\n",
              "      <td>Ready to move</td>\n",
              "      <td>West</td>\n",
              "      <td>Apartment</td>\n",
              "      <td>55.5</td>\n",
              "    </tr>\n",
              "    <tr>\n",
              "      <th>1</th>\n",
              "      <td>2</td>\n",
              "      <td>2</td>\n",
              "      <td>Poranki</td>\n",
              "      <td>1450</td>\n",
              "      <td>Ready to move</td>\n",
              "      <td>0</td>\n",
              "      <td>Apartment</td>\n",
              "      <td>48.0</td>\n",
              "    </tr>\n",
              "    <tr>\n",
              "      <th>2</th>\n",
              "      <td>2</td>\n",
              "      <td>2</td>\n",
              "      <td>Kankipadu</td>\n",
              "      <td>1290</td>\n",
              "      <td>Under Construction</td>\n",
              "      <td>NorthEast</td>\n",
              "      <td>Independent House</td>\n",
              "      <td>50.0</td>\n",
              "    </tr>\n",
              "    <tr>\n",
              "      <th>3</th>\n",
              "      <td>2</td>\n",
              "      <td>4</td>\n",
              "      <td>PNT Colony</td>\n",
              "      <td>1400</td>\n",
              "      <td>Ready to move</td>\n",
              "      <td>0</td>\n",
              "      <td>Independent House</td>\n",
              "      <td>72.0</td>\n",
              "    </tr>\n",
              "    <tr>\n",
              "      <th>4</th>\n",
              "      <td>2</td>\n",
              "      <td>2</td>\n",
              "      <td>Labbipet</td>\n",
              "      <td>950</td>\n",
              "      <td>Ready to move</td>\n",
              "      <td>East</td>\n",
              "      <td>Apartment</td>\n",
              "      <td>60.0</td>\n",
              "    </tr>\n",
              "    <tr>\n",
              "      <th>...</th>\n",
              "      <td>...</td>\n",
              "      <td>...</td>\n",
              "      <td>...</td>\n",
              "      <td>...</td>\n",
              "      <td>...</td>\n",
              "      <td>...</td>\n",
              "      <td>...</td>\n",
              "      <td>...</td>\n",
              "    </tr>\n",
              "    <tr>\n",
              "      <th>2475</th>\n",
              "      <td>None</td>\n",
              "      <td>None</td>\n",
              "      <td>None</td>\n",
              "      <td>None</td>\n",
              "      <td>Resale</td>\n",
              "      <td>None</td>\n",
              "      <td>None</td>\n",
              "      <td>NaN</td>\n",
              "    </tr>\n",
              "    <tr>\n",
              "      <th>2476</th>\n",
              "      <td>None</td>\n",
              "      <td>None</td>\n",
              "      <td>None</td>\n",
              "      <td>None</td>\n",
              "      <td>Under Construction</td>\n",
              "      <td>None</td>\n",
              "      <td>None</td>\n",
              "      <td>NaN</td>\n",
              "    </tr>\n",
              "    <tr>\n",
              "      <th>2477</th>\n",
              "      <td>None</td>\n",
              "      <td>None</td>\n",
              "      <td>None</td>\n",
              "      <td>None</td>\n",
              "      <td>Ready to move</td>\n",
              "      <td>None</td>\n",
              "      <td>None</td>\n",
              "      <td>NaN</td>\n",
              "    </tr>\n",
              "    <tr>\n",
              "      <th>2478</th>\n",
              "      <td>None</td>\n",
              "      <td>None</td>\n",
              "      <td>None</td>\n",
              "      <td>None</td>\n",
              "      <td>Ready to move</td>\n",
              "      <td>None</td>\n",
              "      <td>None</td>\n",
              "      <td>NaN</td>\n",
              "    </tr>\n",
              "    <tr>\n",
              "      <th>2479</th>\n",
              "      <td>None</td>\n",
              "      <td>None</td>\n",
              "      <td>None</td>\n",
              "      <td>None</td>\n",
              "      <td>Under Construction</td>\n",
              "      <td>None</td>\n",
              "      <td>None</td>\n",
              "      <td>NaN</td>\n",
              "    </tr>\n",
              "  </tbody>\n",
              "</table>\n",
              "<p>2480 rows × 8 columns</p>\n",
              "</div>\n",
              "      <button class=\"colab-df-convert\" onclick=\"convertToInteractive('df-1cece8ef-6b67-474a-8b06-f89c6bc0021a')\"\n",
              "              title=\"Convert this dataframe to an interactive table.\"\n",
              "              style=\"display:none;\">\n",
              "        \n",
              "  <svg xmlns=\"http://www.w3.org/2000/svg\" height=\"24px\"viewBox=\"0 0 24 24\"\n",
              "       width=\"24px\">\n",
              "    <path d=\"M0 0h24v24H0V0z\" fill=\"none\"/>\n",
              "    <path d=\"M18.56 5.44l.94 2.06.94-2.06 2.06-.94-2.06-.94-.94-2.06-.94 2.06-2.06.94zm-11 1L8.5 8.5l.94-2.06 2.06-.94-2.06-.94L8.5 2.5l-.94 2.06-2.06.94zm10 10l.94 2.06.94-2.06 2.06-.94-2.06-.94-.94-2.06-.94 2.06-2.06.94z\"/><path d=\"M17.41 7.96l-1.37-1.37c-.4-.4-.92-.59-1.43-.59-.52 0-1.04.2-1.43.59L10.3 9.45l-7.72 7.72c-.78.78-.78 2.05 0 2.83L4 21.41c.39.39.9.59 1.41.59.51 0 1.02-.2 1.41-.59l7.78-7.78 2.81-2.81c.8-.78.8-2.07 0-2.86zM5.41 20L4 18.59l7.72-7.72 1.47 1.35L5.41 20z\"/>\n",
              "  </svg>\n",
              "      </button>\n",
              "      \n",
              "  <style>\n",
              "    .colab-df-container {\n",
              "      display:flex;\n",
              "      flex-wrap:wrap;\n",
              "      gap: 12px;\n",
              "    }\n",
              "\n",
              "    .colab-df-convert {\n",
              "      background-color: #E8F0FE;\n",
              "      border: none;\n",
              "      border-radius: 50%;\n",
              "      cursor: pointer;\n",
              "      display: none;\n",
              "      fill: #1967D2;\n",
              "      height: 32px;\n",
              "      padding: 0 0 0 0;\n",
              "      width: 32px;\n",
              "    }\n",
              "\n",
              "    .colab-df-convert:hover {\n",
              "      background-color: #E2EBFA;\n",
              "      box-shadow: 0px 1px 2px rgba(60, 64, 67, 0.3), 0px 1px 3px 1px rgba(60, 64, 67, 0.15);\n",
              "      fill: #174EA6;\n",
              "    }\n",
              "\n",
              "    [theme=dark] .colab-df-convert {\n",
              "      background-color: #3B4455;\n",
              "      fill: #D2E3FC;\n",
              "    }\n",
              "\n",
              "    [theme=dark] .colab-df-convert:hover {\n",
              "      background-color: #434B5C;\n",
              "      box-shadow: 0px 1px 3px 1px rgba(0, 0, 0, 0.15);\n",
              "      filter: drop-shadow(0px 1px 2px rgba(0, 0, 0, 0.3));\n",
              "      fill: #FFFFFF;\n",
              "    }\n",
              "  </style>\n",
              "\n",
              "      <script>\n",
              "        const buttonEl =\n",
              "          document.querySelector('#df-1cece8ef-6b67-474a-8b06-f89c6bc0021a button.colab-df-convert');\n",
              "        buttonEl.style.display =\n",
              "          google.colab.kernel.accessAllowed ? 'block' : 'none';\n",
              "\n",
              "        async function convertToInteractive(key) {\n",
              "          const element = document.querySelector('#df-1cece8ef-6b67-474a-8b06-f89c6bc0021a');\n",
              "          const dataTable =\n",
              "            await google.colab.kernel.invokeFunction('convertToInteractive',\n",
              "                                                     [key], {});\n",
              "          if (!dataTable) return;\n",
              "\n",
              "          const docLinkHtml = 'Like what you see? Visit the ' +\n",
              "            '<a target=\"_blank\" href=https://colab.research.google.com/notebooks/data_table.ipynb>data table notebook</a>'\n",
              "            + ' to learn more about interactive tables.';\n",
              "          element.innerHTML = '';\n",
              "          dataTable['output_type'] = 'display_data';\n",
              "          await google.colab.output.renderOutput(dataTable, element);\n",
              "          const docLink = document.createElement('div');\n",
              "          docLink.innerHTML = docLinkHtml;\n",
              "          element.appendChild(docLink);\n",
              "        }\n",
              "      </script>\n",
              "    </div>\n",
              "  </div>\n",
              "  "
            ],
            "text/plain": [
              "     Bedroom Bathroom    Location  Size              status     Facing  \\\n",
              "0          3        3     Poranki  1587       Ready to move       West   \n",
              "1          2        2     Poranki  1450       Ready to move          0   \n",
              "2          2        2   Kankipadu  1290  Under Construction  NorthEast   \n",
              "3          2        4  PNT Colony  1400       Ready to move          0   \n",
              "4          2        2    Labbipet   950       Ready to move       East   \n",
              "...      ...      ...         ...   ...                 ...        ...   \n",
              "2475    None     None        None  None              Resale       None   \n",
              "2476    None     None        None  None  Under Construction       None   \n",
              "2477    None     None        None  None       Ready to move       None   \n",
              "2478    None     None        None  None       Ready to move       None   \n",
              "2479    None     None        None  None  Under Construction       None   \n",
              "\n",
              "                   Type  Price  \n",
              "0             Apartment   55.5  \n",
              "1             Apartment   48.0  \n",
              "2     Independent House   50.0  \n",
              "3     Independent House   72.0  \n",
              "4             Apartment   60.0  \n",
              "...                 ...    ...  \n",
              "2475               None    NaN  \n",
              "2476               None    NaN  \n",
              "2477               None    NaN  \n",
              "2478               None    NaN  \n",
              "2479               None    NaN  \n",
              "\n",
              "[2480 rows x 8 columns]"
            ]
          },
          "execution_count": 115,
          "metadata": {},
          "output_type": "execute_result"
        }
      ],
      "source": [
        "# Create a dictionary with the scraped data\n",
        "data_dict = {\n",
        "    'Bedroom': Bedroom,\n",
        "    'Bathroom': Bathroom,\n",
        "    'Location': Location,\n",
        "    'Size': Size,\n",
        "    'status': status,\n",
        "    'Facing': Facing,\n",
        "    'Type': Type,\n",
        "    'Price': Price\n",
        "}\n",
        "\n",
        "# Find the length of the longest list\n",
        "max_length = max(len(Bedroom), len(Bathroom), len(Location), len(Size), len(status), len(Facing), len(Type), len(Price))\n",
        "\n",
        "# Pad the shorter lists with None values to match the length of the longest list\n",
        "for key in data_dict.keys():\n",
        "    data_dict[key] += [None] * (max_length - len(data_dict[key]))\n",
        "\n",
        "# Create a Pandas DataFrame from the dictionary\n",
        "data = pd.DataFrame.from_dict(data_dict)\n",
        "\n",
        "# Print the DataFrame\n",
        "data"
      ]
    },
    {
      "cell_type": "code",
      "execution_count": 116,
      "metadata": {
        "colab": {
          "base_uri": "https://localhost:8080/"
        },
        "id": "YppzYl9fKfQn",
        "outputId": "28417111-a89b-403b-b996-33051e0e66e8"
      },
      "outputs": [
        {
          "data": {
            "text/plain": [
              "Bedroom     1240\n",
              "Bathroom    1240\n",
              "Location    1240\n",
              "Size        1240\n",
              "status         0\n",
              "Facing      1240\n",
              "Type        1364\n",
              "Price       1240\n",
              "dtype: int64"
            ]
          },
          "execution_count": 116,
          "metadata": {},
          "output_type": "execute_result"
        }
      ],
      "source": [
        "data.isnull().sum()"
      ]
    },
    {
      "cell_type": "code",
      "execution_count": 118,
      "metadata": {
        "id": "XlJhdXwEKg0O"
      },
      "outputs": [],
      "source": [
        "data.dropna(inplace=True)"
      ]
    },
    {
      "cell_type": "code",
      "execution_count": 119,
      "metadata": {
        "colab": {
          "base_uri": "https://localhost:8080/",
          "height": 423
        },
        "id": "3zppadcdKzwi",
        "outputId": "f82b8c81-0274-422e-8bad-7cba066a76ee"
      },
      "outputs": [
        {
          "data": {
            "text/html": [
              "\n",
              "  <div id=\"df-6d471c58-338f-4f2d-aafc-1c97015b48ac\">\n",
              "    <div class=\"colab-df-container\">\n",
              "      <div>\n",
              "<style scoped>\n",
              "    .dataframe tbody tr th:only-of-type {\n",
              "        vertical-align: middle;\n",
              "    }\n",
              "\n",
              "    .dataframe tbody tr th {\n",
              "        vertical-align: top;\n",
              "    }\n",
              "\n",
              "    .dataframe thead th {\n",
              "        text-align: right;\n",
              "    }\n",
              "</style>\n",
              "<table border=\"1\" class=\"dataframe\">\n",
              "  <thead>\n",
              "    <tr style=\"text-align: right;\">\n",
              "      <th></th>\n",
              "      <th>Bedroom</th>\n",
              "      <th>Bathroom</th>\n",
              "      <th>Location</th>\n",
              "      <th>Size</th>\n",
              "      <th>status</th>\n",
              "      <th>Facing</th>\n",
              "      <th>Type</th>\n",
              "      <th>Price</th>\n",
              "    </tr>\n",
              "  </thead>\n",
              "  <tbody>\n",
              "    <tr>\n",
              "      <th>0</th>\n",
              "      <td>3</td>\n",
              "      <td>3</td>\n",
              "      <td>Poranki</td>\n",
              "      <td>1587</td>\n",
              "      <td>Ready to move</td>\n",
              "      <td>West</td>\n",
              "      <td>Apartment</td>\n",
              "      <td>55.50</td>\n",
              "    </tr>\n",
              "    <tr>\n",
              "      <th>1</th>\n",
              "      <td>2</td>\n",
              "      <td>2</td>\n",
              "      <td>Poranki</td>\n",
              "      <td>1450</td>\n",
              "      <td>Ready to move</td>\n",
              "      <td>0</td>\n",
              "      <td>Apartment</td>\n",
              "      <td>48.00</td>\n",
              "    </tr>\n",
              "    <tr>\n",
              "      <th>2</th>\n",
              "      <td>2</td>\n",
              "      <td>2</td>\n",
              "      <td>Kankipadu</td>\n",
              "      <td>1290</td>\n",
              "      <td>Under Construction</td>\n",
              "      <td>NorthEast</td>\n",
              "      <td>Independent House</td>\n",
              "      <td>50.00</td>\n",
              "    </tr>\n",
              "    <tr>\n",
              "      <th>3</th>\n",
              "      <td>2</td>\n",
              "      <td>4</td>\n",
              "      <td>PNT Colony</td>\n",
              "      <td>1400</td>\n",
              "      <td>Ready to move</td>\n",
              "      <td>0</td>\n",
              "      <td>Independent House</td>\n",
              "      <td>72.00</td>\n",
              "    </tr>\n",
              "    <tr>\n",
              "      <th>4</th>\n",
              "      <td>2</td>\n",
              "      <td>2</td>\n",
              "      <td>Labbipet</td>\n",
              "      <td>950</td>\n",
              "      <td>Ready to move</td>\n",
              "      <td>East</td>\n",
              "      <td>Apartment</td>\n",
              "      <td>60.00</td>\n",
              "    </tr>\n",
              "    <tr>\n",
              "      <th>...</th>\n",
              "      <td>...</td>\n",
              "      <td>...</td>\n",
              "      <td>...</td>\n",
              "      <td>...</td>\n",
              "      <td>...</td>\n",
              "      <td>...</td>\n",
              "      <td>...</td>\n",
              "      <td>...</td>\n",
              "    </tr>\n",
              "    <tr>\n",
              "      <th>1111</th>\n",
              "      <td>3</td>\n",
              "      <td>3</td>\n",
              "      <td>Vidhyadharpuram</td>\n",
              "      <td>1600</td>\n",
              "      <td>Under Construction</td>\n",
              "      <td>West</td>\n",
              "      <td>Residential Plot</td>\n",
              "      <td>95.00</td>\n",
              "    </tr>\n",
              "    <tr>\n",
              "      <th>1112</th>\n",
              "      <td>6</td>\n",
              "      <td>7</td>\n",
              "      <td>Penamaluru</td>\n",
              "      <td>3700</td>\n",
              "      <td>Ready to move</td>\n",
              "      <td>0</td>\n",
              "      <td>Apartment</td>\n",
              "      <td>110.00</td>\n",
              "    </tr>\n",
              "    <tr>\n",
              "      <th>1113</th>\n",
              "      <td>0</td>\n",
              "      <td>0</td>\n",
              "      <td>Kankipadu</td>\n",
              "      <td>1782</td>\n",
              "      <td>Resale</td>\n",
              "      <td>0</td>\n",
              "      <td>Apartment</td>\n",
              "      <td>16.83</td>\n",
              "    </tr>\n",
              "    <tr>\n",
              "      <th>1114</th>\n",
              "      <td>0</td>\n",
              "      <td>0</td>\n",
              "      <td>Poranki</td>\n",
              "      <td>1800</td>\n",
              "      <td>Resale</td>\n",
              "      <td>West</td>\n",
              "      <td>Independent House</td>\n",
              "      <td>33.00</td>\n",
              "    </tr>\n",
              "    <tr>\n",
              "      <th>1115</th>\n",
              "      <td>0</td>\n",
              "      <td>0</td>\n",
              "      <td>Kankipadu</td>\n",
              "      <td>1500</td>\n",
              "      <td>Resale</td>\n",
              "      <td>0</td>\n",
              "      <td>Apartment</td>\n",
              "      <td>20.00</td>\n",
              "    </tr>\n",
              "  </tbody>\n",
              "</table>\n",
              "<p>1116 rows × 8 columns</p>\n",
              "</div>\n",
              "      <button class=\"colab-df-convert\" onclick=\"convertToInteractive('df-6d471c58-338f-4f2d-aafc-1c97015b48ac')\"\n",
              "              title=\"Convert this dataframe to an interactive table.\"\n",
              "              style=\"display:none;\">\n",
              "        \n",
              "  <svg xmlns=\"http://www.w3.org/2000/svg\" height=\"24px\"viewBox=\"0 0 24 24\"\n",
              "       width=\"24px\">\n",
              "    <path d=\"M0 0h24v24H0V0z\" fill=\"none\"/>\n",
              "    <path d=\"M18.56 5.44l.94 2.06.94-2.06 2.06-.94-2.06-.94-.94-2.06-.94 2.06-2.06.94zm-11 1L8.5 8.5l.94-2.06 2.06-.94-2.06-.94L8.5 2.5l-.94 2.06-2.06.94zm10 10l.94 2.06.94-2.06 2.06-.94-2.06-.94-.94-2.06-.94 2.06-2.06.94z\"/><path d=\"M17.41 7.96l-1.37-1.37c-.4-.4-.92-.59-1.43-.59-.52 0-1.04.2-1.43.59L10.3 9.45l-7.72 7.72c-.78.78-.78 2.05 0 2.83L4 21.41c.39.39.9.59 1.41.59.51 0 1.02-.2 1.41-.59l7.78-7.78 2.81-2.81c.8-.78.8-2.07 0-2.86zM5.41 20L4 18.59l7.72-7.72 1.47 1.35L5.41 20z\"/>\n",
              "  </svg>\n",
              "      </button>\n",
              "      \n",
              "  <style>\n",
              "    .colab-df-container {\n",
              "      display:flex;\n",
              "      flex-wrap:wrap;\n",
              "      gap: 12px;\n",
              "    }\n",
              "\n",
              "    .colab-df-convert {\n",
              "      background-color: #E8F0FE;\n",
              "      border: none;\n",
              "      border-radius: 50%;\n",
              "      cursor: pointer;\n",
              "      display: none;\n",
              "      fill: #1967D2;\n",
              "      height: 32px;\n",
              "      padding: 0 0 0 0;\n",
              "      width: 32px;\n",
              "    }\n",
              "\n",
              "    .colab-df-convert:hover {\n",
              "      background-color: #E2EBFA;\n",
              "      box-shadow: 0px 1px 2px rgba(60, 64, 67, 0.3), 0px 1px 3px 1px rgba(60, 64, 67, 0.15);\n",
              "      fill: #174EA6;\n",
              "    }\n",
              "\n",
              "    [theme=dark] .colab-df-convert {\n",
              "      background-color: #3B4455;\n",
              "      fill: #D2E3FC;\n",
              "    }\n",
              "\n",
              "    [theme=dark] .colab-df-convert:hover {\n",
              "      background-color: #434B5C;\n",
              "      box-shadow: 0px 1px 3px 1px rgba(0, 0, 0, 0.15);\n",
              "      filter: drop-shadow(0px 1px 2px rgba(0, 0, 0, 0.3));\n",
              "      fill: #FFFFFF;\n",
              "    }\n",
              "  </style>\n",
              "\n",
              "      <script>\n",
              "        const buttonEl =\n",
              "          document.querySelector('#df-6d471c58-338f-4f2d-aafc-1c97015b48ac button.colab-df-convert');\n",
              "        buttonEl.style.display =\n",
              "          google.colab.kernel.accessAllowed ? 'block' : 'none';\n",
              "\n",
              "        async function convertToInteractive(key) {\n",
              "          const element = document.querySelector('#df-6d471c58-338f-4f2d-aafc-1c97015b48ac');\n",
              "          const dataTable =\n",
              "            await google.colab.kernel.invokeFunction('convertToInteractive',\n",
              "                                                     [key], {});\n",
              "          if (!dataTable) return;\n",
              "\n",
              "          const docLinkHtml = 'Like what you see? Visit the ' +\n",
              "            '<a target=\"_blank\" href=https://colab.research.google.com/notebooks/data_table.ipynb>data table notebook</a>'\n",
              "            + ' to learn more about interactive tables.';\n",
              "          element.innerHTML = '';\n",
              "          dataTable['output_type'] = 'display_data';\n",
              "          await google.colab.output.renderOutput(dataTable, element);\n",
              "          const docLink = document.createElement('div');\n",
              "          docLink.innerHTML = docLinkHtml;\n",
              "          element.appendChild(docLink);\n",
              "        }\n",
              "      </script>\n",
              "    </div>\n",
              "  </div>\n",
              "  "
            ],
            "text/plain": [
              "     Bedroom Bathroom         Location  Size              status     Facing  \\\n",
              "0          3        3          Poranki  1587       Ready to move       West   \n",
              "1          2        2          Poranki  1450       Ready to move          0   \n",
              "2          2        2        Kankipadu  1290  Under Construction  NorthEast   \n",
              "3          2        4       PNT Colony  1400       Ready to move          0   \n",
              "4          2        2         Labbipet   950       Ready to move       East   \n",
              "...      ...      ...              ...   ...                 ...        ...   \n",
              "1111       3        3  Vidhyadharpuram  1600  Under Construction       West   \n",
              "1112       6        7       Penamaluru  3700       Ready to move          0   \n",
              "1113       0        0        Kankipadu  1782              Resale          0   \n",
              "1114       0        0          Poranki  1800              Resale       West   \n",
              "1115       0        0        Kankipadu  1500              Resale          0   \n",
              "\n",
              "                   Type   Price  \n",
              "0             Apartment   55.50  \n",
              "1             Apartment   48.00  \n",
              "2     Independent House   50.00  \n",
              "3     Independent House   72.00  \n",
              "4             Apartment   60.00  \n",
              "...                 ...     ...  \n",
              "1111   Residential Plot   95.00  \n",
              "1112          Apartment  110.00  \n",
              "1113          Apartment   16.83  \n",
              "1114  Independent House   33.00  \n",
              "1115          Apartment   20.00  \n",
              "\n",
              "[1116 rows x 8 columns]"
            ]
          },
          "execution_count": 119,
          "metadata": {},
          "output_type": "execute_result"
        }
      ],
      "source": [
        "data"
      ]
    },
    {
      "cell_type": "code",
      "execution_count": 120,
      "metadata": {
        "id": "OTrvswYYK0a6"
      },
      "outputs": [],
      "source": [
        "#Converting the above cleansed data into CSV file\n",
        "data.to_csv('House.csv')"
      ]
    },
    {
      "cell_type": "code",
      "execution_count": 121,
      "metadata": {
        "id": "6se5NT5hK7kI"
      },
      "outputs": [],
      "source": [
        "data = pd.read_csv('House.csv')"
      ]
    },
    {
      "cell_type": "code",
      "execution_count": 122,
      "metadata": {
        "colab": {
          "base_uri": "https://localhost:8080/",
          "height": 423
        },
        "id": "S9niG2AsLBRw",
        "outputId": "13576647-17d5-4acb-a463-12f5346e30b5"
      },
      "outputs": [
        {
          "data": {
            "text/html": [
              "\n",
              "  <div id=\"df-92595a71-83a8-4ee1-b2b0-9a05dabeff15\">\n",
              "    <div class=\"colab-df-container\">\n",
              "      <div>\n",
              "<style scoped>\n",
              "    .dataframe tbody tr th:only-of-type {\n",
              "        vertical-align: middle;\n",
              "    }\n",
              "\n",
              "    .dataframe tbody tr th {\n",
              "        vertical-align: top;\n",
              "    }\n",
              "\n",
              "    .dataframe thead th {\n",
              "        text-align: right;\n",
              "    }\n",
              "</style>\n",
              "<table border=\"1\" class=\"dataframe\">\n",
              "  <thead>\n",
              "    <tr style=\"text-align: right;\">\n",
              "      <th></th>\n",
              "      <th>Unnamed: 0</th>\n",
              "      <th>Bedroom</th>\n",
              "      <th>Bathroom</th>\n",
              "      <th>Location</th>\n",
              "      <th>Size</th>\n",
              "      <th>status</th>\n",
              "      <th>Facing</th>\n",
              "      <th>Type</th>\n",
              "      <th>Price</th>\n",
              "    </tr>\n",
              "  </thead>\n",
              "  <tbody>\n",
              "    <tr>\n",
              "      <th>0</th>\n",
              "      <td>0</td>\n",
              "      <td>3</td>\n",
              "      <td>3</td>\n",
              "      <td>Poranki</td>\n",
              "      <td>1587</td>\n",
              "      <td>Ready to move</td>\n",
              "      <td>West</td>\n",
              "      <td>Apartment</td>\n",
              "      <td>55.50</td>\n",
              "    </tr>\n",
              "    <tr>\n",
              "      <th>1</th>\n",
              "      <td>1</td>\n",
              "      <td>2</td>\n",
              "      <td>2</td>\n",
              "      <td>Poranki</td>\n",
              "      <td>1450</td>\n",
              "      <td>Ready to move</td>\n",
              "      <td>0</td>\n",
              "      <td>Apartment</td>\n",
              "      <td>48.00</td>\n",
              "    </tr>\n",
              "    <tr>\n",
              "      <th>2</th>\n",
              "      <td>2</td>\n",
              "      <td>2</td>\n",
              "      <td>2</td>\n",
              "      <td>Kankipadu</td>\n",
              "      <td>1290</td>\n",
              "      <td>Under Construction</td>\n",
              "      <td>NorthEast</td>\n",
              "      <td>Independent House</td>\n",
              "      <td>50.00</td>\n",
              "    </tr>\n",
              "    <tr>\n",
              "      <th>3</th>\n",
              "      <td>3</td>\n",
              "      <td>2</td>\n",
              "      <td>4</td>\n",
              "      <td>PNT Colony</td>\n",
              "      <td>1400</td>\n",
              "      <td>Ready to move</td>\n",
              "      <td>0</td>\n",
              "      <td>Independent House</td>\n",
              "      <td>72.00</td>\n",
              "    </tr>\n",
              "    <tr>\n",
              "      <th>4</th>\n",
              "      <td>4</td>\n",
              "      <td>2</td>\n",
              "      <td>2</td>\n",
              "      <td>Labbipet</td>\n",
              "      <td>950</td>\n",
              "      <td>Ready to move</td>\n",
              "      <td>East</td>\n",
              "      <td>Apartment</td>\n",
              "      <td>60.00</td>\n",
              "    </tr>\n",
              "    <tr>\n",
              "      <th>...</th>\n",
              "      <td>...</td>\n",
              "      <td>...</td>\n",
              "      <td>...</td>\n",
              "      <td>...</td>\n",
              "      <td>...</td>\n",
              "      <td>...</td>\n",
              "      <td>...</td>\n",
              "      <td>...</td>\n",
              "      <td>...</td>\n",
              "    </tr>\n",
              "    <tr>\n",
              "      <th>1111</th>\n",
              "      <td>1111</td>\n",
              "      <td>3</td>\n",
              "      <td>3</td>\n",
              "      <td>Vidhyadharpuram</td>\n",
              "      <td>1600</td>\n",
              "      <td>Under Construction</td>\n",
              "      <td>West</td>\n",
              "      <td>Residential Plot</td>\n",
              "      <td>95.00</td>\n",
              "    </tr>\n",
              "    <tr>\n",
              "      <th>1112</th>\n",
              "      <td>1112</td>\n",
              "      <td>6</td>\n",
              "      <td>7</td>\n",
              "      <td>Penamaluru</td>\n",
              "      <td>3700</td>\n",
              "      <td>Ready to move</td>\n",
              "      <td>0</td>\n",
              "      <td>Apartment</td>\n",
              "      <td>110.00</td>\n",
              "    </tr>\n",
              "    <tr>\n",
              "      <th>1113</th>\n",
              "      <td>1113</td>\n",
              "      <td>0</td>\n",
              "      <td>0</td>\n",
              "      <td>Kankipadu</td>\n",
              "      <td>1782</td>\n",
              "      <td>Resale</td>\n",
              "      <td>0</td>\n",
              "      <td>Apartment</td>\n",
              "      <td>16.83</td>\n",
              "    </tr>\n",
              "    <tr>\n",
              "      <th>1114</th>\n",
              "      <td>1114</td>\n",
              "      <td>0</td>\n",
              "      <td>0</td>\n",
              "      <td>Poranki</td>\n",
              "      <td>1800</td>\n",
              "      <td>Resale</td>\n",
              "      <td>West</td>\n",
              "      <td>Independent House</td>\n",
              "      <td>33.00</td>\n",
              "    </tr>\n",
              "    <tr>\n",
              "      <th>1115</th>\n",
              "      <td>1115</td>\n",
              "      <td>0</td>\n",
              "      <td>0</td>\n",
              "      <td>Kankipadu</td>\n",
              "      <td>1500</td>\n",
              "      <td>Resale</td>\n",
              "      <td>0</td>\n",
              "      <td>Apartment</td>\n",
              "      <td>20.00</td>\n",
              "    </tr>\n",
              "  </tbody>\n",
              "</table>\n",
              "<p>1116 rows × 9 columns</p>\n",
              "</div>\n",
              "      <button class=\"colab-df-convert\" onclick=\"convertToInteractive('df-92595a71-83a8-4ee1-b2b0-9a05dabeff15')\"\n",
              "              title=\"Convert this dataframe to an interactive table.\"\n",
              "              style=\"display:none;\">\n",
              "        \n",
              "  <svg xmlns=\"http://www.w3.org/2000/svg\" height=\"24px\"viewBox=\"0 0 24 24\"\n",
              "       width=\"24px\">\n",
              "    <path d=\"M0 0h24v24H0V0z\" fill=\"none\"/>\n",
              "    <path d=\"M18.56 5.44l.94 2.06.94-2.06 2.06-.94-2.06-.94-.94-2.06-.94 2.06-2.06.94zm-11 1L8.5 8.5l.94-2.06 2.06-.94-2.06-.94L8.5 2.5l-.94 2.06-2.06.94zm10 10l.94 2.06.94-2.06 2.06-.94-2.06-.94-.94-2.06-.94 2.06-2.06.94z\"/><path d=\"M17.41 7.96l-1.37-1.37c-.4-.4-.92-.59-1.43-.59-.52 0-1.04.2-1.43.59L10.3 9.45l-7.72 7.72c-.78.78-.78 2.05 0 2.83L4 21.41c.39.39.9.59 1.41.59.51 0 1.02-.2 1.41-.59l7.78-7.78 2.81-2.81c.8-.78.8-2.07 0-2.86zM5.41 20L4 18.59l7.72-7.72 1.47 1.35L5.41 20z\"/>\n",
              "  </svg>\n",
              "      </button>\n",
              "      \n",
              "  <style>\n",
              "    .colab-df-container {\n",
              "      display:flex;\n",
              "      flex-wrap:wrap;\n",
              "      gap: 12px;\n",
              "    }\n",
              "\n",
              "    .colab-df-convert {\n",
              "      background-color: #E8F0FE;\n",
              "      border: none;\n",
              "      border-radius: 50%;\n",
              "      cursor: pointer;\n",
              "      display: none;\n",
              "      fill: #1967D2;\n",
              "      height: 32px;\n",
              "      padding: 0 0 0 0;\n",
              "      width: 32px;\n",
              "    }\n",
              "\n",
              "    .colab-df-convert:hover {\n",
              "      background-color: #E2EBFA;\n",
              "      box-shadow: 0px 1px 2px rgba(60, 64, 67, 0.3), 0px 1px 3px 1px rgba(60, 64, 67, 0.15);\n",
              "      fill: #174EA6;\n",
              "    }\n",
              "\n",
              "    [theme=dark] .colab-df-convert {\n",
              "      background-color: #3B4455;\n",
              "      fill: #D2E3FC;\n",
              "    }\n",
              "\n",
              "    [theme=dark] .colab-df-convert:hover {\n",
              "      background-color: #434B5C;\n",
              "      box-shadow: 0px 1px 3px 1px rgba(0, 0, 0, 0.15);\n",
              "      filter: drop-shadow(0px 1px 2px rgba(0, 0, 0, 0.3));\n",
              "      fill: #FFFFFF;\n",
              "    }\n",
              "  </style>\n",
              "\n",
              "      <script>\n",
              "        const buttonEl =\n",
              "          document.querySelector('#df-92595a71-83a8-4ee1-b2b0-9a05dabeff15 button.colab-df-convert');\n",
              "        buttonEl.style.display =\n",
              "          google.colab.kernel.accessAllowed ? 'block' : 'none';\n",
              "\n",
              "        async function convertToInteractive(key) {\n",
              "          const element = document.querySelector('#df-92595a71-83a8-4ee1-b2b0-9a05dabeff15');\n",
              "          const dataTable =\n",
              "            await google.colab.kernel.invokeFunction('convertToInteractive',\n",
              "                                                     [key], {});\n",
              "          if (!dataTable) return;\n",
              "\n",
              "          const docLinkHtml = 'Like what you see? Visit the ' +\n",
              "            '<a target=\"_blank\" href=https://colab.research.google.com/notebooks/data_table.ipynb>data table notebook</a>'\n",
              "            + ' to learn more about interactive tables.';\n",
              "          element.innerHTML = '';\n",
              "          dataTable['output_type'] = 'display_data';\n",
              "          await google.colab.output.renderOutput(dataTable, element);\n",
              "          const docLink = document.createElement('div');\n",
              "          docLink.innerHTML = docLinkHtml;\n",
              "          element.appendChild(docLink);\n",
              "        }\n",
              "      </script>\n",
              "    </div>\n",
              "  </div>\n",
              "  "
            ],
            "text/plain": [
              "      Unnamed: 0  Bedroom  Bathroom         Location  Size  \\\n",
              "0              0        3         3          Poranki  1587   \n",
              "1              1        2         2          Poranki  1450   \n",
              "2              2        2         2        Kankipadu  1290   \n",
              "3              3        2         4       PNT Colony  1400   \n",
              "4              4        2         2         Labbipet   950   \n",
              "...          ...      ...       ...              ...   ...   \n",
              "1111        1111        3         3  Vidhyadharpuram  1600   \n",
              "1112        1112        6         7       Penamaluru  3700   \n",
              "1113        1113        0         0        Kankipadu  1782   \n",
              "1114        1114        0         0          Poranki  1800   \n",
              "1115        1115        0         0        Kankipadu  1500   \n",
              "\n",
              "                  status     Facing               Type   Price  \n",
              "0          Ready to move       West          Apartment   55.50  \n",
              "1          Ready to move          0          Apartment   48.00  \n",
              "2     Under Construction  NorthEast  Independent House   50.00  \n",
              "3          Ready to move          0  Independent House   72.00  \n",
              "4          Ready to move       East          Apartment   60.00  \n",
              "...                  ...        ...                ...     ...  \n",
              "1111  Under Construction       West   Residential Plot   95.00  \n",
              "1112       Ready to move          0          Apartment  110.00  \n",
              "1113              Resale          0          Apartment   16.83  \n",
              "1114              Resale       West  Independent House   33.00  \n",
              "1115              Resale          0          Apartment   20.00  \n",
              "\n",
              "[1116 rows x 9 columns]"
            ]
          },
          "execution_count": 122,
          "metadata": {},
          "output_type": "execute_result"
        }
      ],
      "source": [
        "data"
      ]
    },
    {
      "cell_type": "code",
      "execution_count": 123,
      "metadata": {
        "id": "q3rOh2hKLBmu"
      },
      "outputs": [],
      "source": [
        "data.drop(['Unnamed: 0'], axis=1, inplace=True)"
      ]
    },
    {
      "cell_type": "code",
      "execution_count": 124,
      "metadata": {
        "colab": {
          "base_uri": "https://localhost:8080/"
        },
        "id": "g-fcoKqoLDUm",
        "outputId": "4052d240-403b-4906-dc24-bb7110278d1e"
      },
      "outputs": [
        {
          "name": "stdout",
          "output_type": "stream",
          "text": [
            "<class 'pandas.core.frame.DataFrame'>\n",
            "RangeIndex: 1116 entries, 0 to 1115\n",
            "Data columns (total 8 columns):\n",
            " #   Column    Non-Null Count  Dtype  \n",
            "---  ------    --------------  -----  \n",
            " 0   Bedroom   1116 non-null   int64  \n",
            " 1   Bathroom  1116 non-null   int64  \n",
            " 2   Location  1116 non-null   object \n",
            " 3   Size      1116 non-null   int64  \n",
            " 4   status    1116 non-null   object \n",
            " 5   Facing    1116 non-null   object \n",
            " 6   Type      1116 non-null   object \n",
            " 7   Price     1116 non-null   float64\n",
            "dtypes: float64(1), int64(3), object(4)\n",
            "memory usage: 69.9+ KB\n"
          ]
        }
      ],
      "source": [
        "data.info()"
      ]
    },
    {
      "cell_type": "code",
      "execution_count": 125,
      "metadata": {
        "id": "_qtc2WJsLOfy"
      },
      "outputs": [],
      "source": [
        "data['Location'] = data['Location'].map({'Poranki':0,\n",
        "                                         'Kankipadu':1,\n",
        "                                         'Benz Circle':2,\n",
        "                                         'Gannavaram':3,\n",
        "                                         'PNT Colony':4,\n",
        "                                         'Labbipet':5,\n",
        "                                         'Gunadala':6,\n",
        "                                         'Gollapudi':7,\n",
        "                                         'Enikepadu':8,\n",
        "                                         'Vidhyadharpuram':9,\n",
        "                                         'Penamaluru':10,\n",
        "                                         'Payakapuram':11})\n",
        "\n",
        "data['status'] = data['status'].map({'Resale':0,\n",
        "                                     'Under Construction':1,\n",
        "                                     'Ready to move':2})\n",
        "\n",
        "data['Facing'] = data['Facing'].map({'0':0,\n",
        "                                     'East':1,\n",
        "                                     'West':2,\n",
        "                                     'NorthEast':3})\n",
        "\n",
        "data['Type'] = data['Type'].map({'Apartment':0,\n",
        "                                 'Independent House':1,\n",
        "                                 'Residential Plot':2})"
      ]
    },
    {
      "cell_type": "code",
      "execution_count": 126,
      "metadata": {
        "colab": {
          "base_uri": "https://localhost:8080/"
        },
        "id": "m9HRa-AkMYRr",
        "outputId": "8b2101a5-13f6-4e09-a7c4-6a5faca899a1"
      },
      "outputs": [
        {
          "name": "stdout",
          "output_type": "stream",
          "text": [
            "<class 'pandas.core.frame.DataFrame'>\n",
            "RangeIndex: 1116 entries, 0 to 1115\n",
            "Data columns (total 8 columns):\n",
            " #   Column    Non-Null Count  Dtype  \n",
            "---  ------    --------------  -----  \n",
            " 0   Bedroom   1116 non-null   int64  \n",
            " 1   Bathroom  1116 non-null   int64  \n",
            " 2   Location  1116 non-null   int64  \n",
            " 3   Size      1116 non-null   int64  \n",
            " 4   status    1116 non-null   int64  \n",
            " 5   Facing    1116 non-null   int64  \n",
            " 6   Type      1116 non-null   int64  \n",
            " 7   Price     1116 non-null   float64\n",
            "dtypes: float64(1), int64(7)\n",
            "memory usage: 69.9 KB\n"
          ]
        }
      ],
      "source": [
        "data.info()"
      ]
    },
    {
      "cell_type": "code",
      "execution_count": 128,
      "metadata": {
        "colab": {
          "base_uri": "https://localhost:8080/"
        },
        "id": "YOVAm6baLLTz",
        "outputId": "49d6db18-fc19-4ecd-d05a-d5c2ea70da07"
      },
      "outputs": [
        {
          "name": "stdout",
          "output_type": "stream",
          "text": [
            "Looking in indexes: https://pypi.org/simple, https://us-python.pkg.dev/colab-wheels/public/simple/\n",
            "Collecting pycaret\n",
            "  Downloading pycaret-3.0.0-py3-none-any.whl (481 kB)\n",
            "\u001b[2K     \u001b[90m━━━━━━━━━━━━━━━━━━━━━━━━━━━━━━━━━━━━━━\u001b[0m \u001b[32m481.8/481.8 kB\u001b[0m \u001b[31m10.0 MB/s\u001b[0m eta \u001b[36m0:00:00\u001b[0m\n",
            "\u001b[?25hCollecting scikit-plot>=0.3.7\n",
            "  Downloading scikit_plot-0.3.7-py3-none-any.whl (33 kB)\n",
            "Collecting schemdraw>=0.14\n",
            "  Downloading schemdraw-0.16-py3-none-any.whl (105 kB)\n",
            "\u001b[2K     \u001b[90m━━━━━━━━━━━━━━━━━━━━━━━━━━━━━━━━━━━━━━\u001b[0m \u001b[32m105.8/105.8 kB\u001b[0m \u001b[31m13.0 MB/s\u001b[0m eta \u001b[36m0:00:00\u001b[0m\n",
            "\u001b[?25hRequirement already satisfied: ipywidgets>=7.6.5 in /usr/local/lib/python3.9/dist-packages (from pycaret) (7.7.1)\n",
            "Requirement already satisfied: ipython>=5.5.0 in /usr/local/lib/python3.9/dist-packages (from pycaret) (7.34.0)\n",
            "Collecting kaleido>=0.2.1\n",
            "  Downloading kaleido-0.2.1-py2.py3-none-manylinux1_x86_64.whl (79.9 MB)\n",
            "\u001b[2K     \u001b[90m━━━━━━━━━━━━━━━━━━━━━━━━━━━━━━━━━━━━━━━━\u001b[0m \u001b[32m79.9/79.9 MB\u001b[0m \u001b[31m9.2 MB/s\u001b[0m eta \u001b[36m0:00:00\u001b[0m\n",
            "\u001b[?25hCollecting category-encoders>=2.4.0\n",
            "  Downloading category_encoders-2.6.0-py2.py3-none-any.whl (81 kB)\n",
            "\u001b[2K     \u001b[90m━━━━━━━━━━━━━━━━━━━━━━━━━━━━━━━━━━━━━━━━\u001b[0m \u001b[32m81.2/81.2 kB\u001b[0m \u001b[31m9.7 MB/s\u001b[0m eta \u001b[36m0:00:00\u001b[0m\n",
            "\u001b[?25hRequirement already satisfied: joblib>=1.2.0 in /usr/local/lib/python3.9/dist-packages (from pycaret) (1.2.0)\n",
            "Requirement already satisfied: scikit-learn>=1.0 in /usr/local/lib/python3.9/dist-packages (from pycaret) (1.2.2)\n",
            "Requirement already satisfied: lightgbm>=3.0.0 in /usr/local/lib/python3.9/dist-packages (from pycaret) (3.3.5)\n",
            "Requirement already satisfied: numpy<1.25,>=1.21 in /usr/local/lib/python3.9/dist-packages (from pycaret) (1.22.4)\n",
            "Requirement already satisfied: statsmodels>=0.12.1 in /usr/local/lib/python3.9/dist-packages (from pycaret) (0.13.5)\n",
            "Collecting xxhash\n",
            "  Downloading xxhash-3.2.0-cp39-cp39-manylinux_2_17_x86_64.manylinux2014_x86_64.whl (212 kB)\n",
            "\u001b[2K     \u001b[90m━━━━━━━━━━━━━━━━━━━━━━━━━━━━━━━━━━━━━━\u001b[0m \u001b[32m212.2/212.2 kB\u001b[0m \u001b[31m19.3 MB/s\u001b[0m eta \u001b[36m0:00:00\u001b[0m\n",
            "\u001b[?25hRequirement already satisfied: importlib-metadata>=4.12.0 in /usr/local/lib/python3.9/dist-packages (from pycaret) (6.4.1)\n",
            "Collecting pmdarima!=1.8.1,<3.0.0,>=1.8.0\n",
            "  Downloading pmdarima-2.0.3-cp39-cp39-manylinux_2_17_x86_64.manylinux2014_x86_64.manylinux_2_28_x86_64.whl (1.9 MB)\n",
            "\u001b[2K     \u001b[90m━━━━━━━━━━━━━━━━━━━━━━━━━━━━━━━━━━━━━━━━\u001b[0m \u001b[32m1.9/1.9 MB\u001b[0m \u001b[31m73.8 MB/s\u001b[0m eta \u001b[36m0:00:00\u001b[0m\n",
            "\u001b[?25hRequirement already satisfied: plotly>=5.0.0 in /usr/local/lib/python3.9/dist-packages (from pycaret) (5.13.1)\n",
            "Collecting plotly-resampler>=0.8.3.1\n",
            "  Downloading plotly_resampler-0.8.3.2.tar.gz (46 kB)\n",
            "\u001b[2K     \u001b[90m━━━━━━━━━━━━━━━━━━━━━━━━━━━━━━━━━━━━━━━━\u001b[0m \u001b[32m46.4/46.4 kB\u001b[0m \u001b[31m5.1 MB/s\u001b[0m eta \u001b[36m0:00:00\u001b[0m\n",
            "\u001b[?25h  Installing build dependencies ... \u001b[?25l\u001b[?25hdone\n",
            "  Getting requirements to build wheel ... \u001b[?25l\u001b[?25hdone\n",
            "  Preparing metadata (pyproject.toml) ... \u001b[?25l\u001b[?25hdone\n",
            "Requirement already satisfied: scipy<2.0.0 in /usr/local/lib/python3.9/dist-packages (from pycaret) (1.10.1)\n",
            "Collecting sktime>=0.16.1\n",
            "  Downloading sktime-0.17.1-py3-none-any.whl (16.1 MB)\n",
            "\u001b[2K     \u001b[90m━━━━━━━━━━━━━━━━━━━━━━━━━━━━━━━━━━━━━━━━\u001b[0m \u001b[32m16.1/16.1 MB\u001b[0m \u001b[31m65.2 MB/s\u001b[0m eta \u001b[36m0:00:00\u001b[0m\n",
            "\u001b[?25hRequirement already satisfied: pandas<1.6.0,>=1.3.0 in /usr/local/lib/python3.9/dist-packages (from pycaret) (1.5.3)\n",
            "Requirement already satisfied: cloudpickle in /usr/local/lib/python3.9/dist-packages (from pycaret) (2.2.1)\n",
            "Requirement already satisfied: matplotlib>=3.3.0 in /usr/local/lib/python3.9/dist-packages (from pycaret) (3.7.1)\n",
            "Collecting wurlitzer\n",
            "  Downloading wurlitzer-3.0.3-py3-none-any.whl (7.3 kB)\n",
            "Requirement already satisfied: imbalanced-learn>=0.8.1 in /usr/local/lib/python3.9/dist-packages (from pycaret) (0.10.1)\n",
            "Requirement already satisfied: jinja2>=1.2 in /usr/local/lib/python3.9/dist-packages (from pycaret) (3.1.2)\n",
            "Requirement already satisfied: tqdm>=4.62.0 in /usr/local/lib/python3.9/dist-packages (from pycaret) (4.65.0)\n",
            "Requirement already satisfied: requests>=2.27.1 in /usr/local/lib/python3.9/dist-packages (from pycaret) (2.27.1)\n",
            "Requirement already satisfied: markupsafe>=2.0.1 in /usr/local/lib/python3.9/dist-packages (from pycaret) (2.1.2)\n",
            "Collecting deprecation>=2.1.0\n",
            "  Downloading deprecation-2.1.0-py2.py3-none-any.whl (11 kB)\n",
            "Requirement already satisfied: yellowbrick>=1.4 in /usr/local/lib/python3.9/dist-packages (from pycaret) (1.5)\n",
            "Collecting tbats>=1.1.0\n",
            "  Downloading tbats-1.1.3-py3-none-any.whl (44 kB)\n",
            "\u001b[2K     \u001b[90m━━━━━━━━━━━━━━━━━━━━━━━━━━━━━━━━━━━━━━━━\u001b[0m \u001b[32m44.0/44.0 kB\u001b[0m \u001b[31m4.6 MB/s\u001b[0m eta \u001b[36m0:00:00\u001b[0m\n",
            "\u001b[?25hCollecting pyod>=1.0.8\n",
            "  Downloading pyod-1.0.9.tar.gz (149 kB)\n",
            "\u001b[2K     \u001b[90m━━━━━━━━━━━━━━━━━━━━━━━━━━━━━━━━━━━━━━\u001b[0m \u001b[32m150.0/150.0 kB\u001b[0m \u001b[31m17.5 MB/s\u001b[0m eta \u001b[36m0:00:00\u001b[0m\n",
            "\u001b[?25h  Preparing metadata (setup.py) ... \u001b[?25l\u001b[?25hdone\n",
            "Requirement already satisfied: nbformat>=4.2.0 in /usr/local/lib/python3.9/dist-packages (from pycaret) (5.8.0)\n",
            "Requirement already satisfied: numba>=0.55.0 in /usr/local/lib/python3.9/dist-packages (from pycaret) (0.56.4)\n",
            "Requirement already satisfied: psutil>=5.9.0 in /usr/local/lib/python3.9/dist-packages (from pycaret) (5.9.5)\n",
            "Requirement already satisfied: patsy>=0.5.1 in /usr/local/lib/python3.9/dist-packages (from category-encoders>=2.4.0->pycaret) (0.5.3)\n",
            "Requirement already satisfied: packaging in /usr/local/lib/python3.9/dist-packages (from deprecation>=2.1.0->pycaret) (23.1)\n",
            "Requirement already satisfied: threadpoolctl>=2.0.0 in /usr/local/lib/python3.9/dist-packages (from imbalanced-learn>=0.8.1->pycaret) (3.1.0)\n",
            "Requirement already satisfied: zipp>=0.5 in /usr/local/lib/python3.9/dist-packages (from importlib-metadata>=4.12.0->pycaret) (3.15.0)\n",
            "Requirement already satisfied: prompt-toolkit!=3.0.0,!=3.0.1,<3.1.0,>=2.0.0 in /usr/local/lib/python3.9/dist-packages (from ipython>=5.5.0->pycaret) (3.0.38)\n",
            "Requirement already satisfied: pickleshare in /usr/local/lib/python3.9/dist-packages (from ipython>=5.5.0->pycaret) (0.7.5)\n",
            "Requirement already satisfied: setuptools>=18.5 in /usr/local/lib/python3.9/dist-packages (from ipython>=5.5.0->pycaret) (67.6.1)\n",
            "Requirement already satisfied: matplotlib-inline in /usr/local/lib/python3.9/dist-packages (from ipython>=5.5.0->pycaret) (0.1.6)\n",
            "Requirement already satisfied: pygments in /usr/local/lib/python3.9/dist-packages (from ipython>=5.5.0->pycaret) (2.14.0)\n",
            "Requirement already satisfied: backcall in /usr/local/lib/python3.9/dist-packages (from ipython>=5.5.0->pycaret) (0.2.0)\n",
            "Requirement already satisfied: pexpect>4.3 in /usr/local/lib/python3.9/dist-packages (from ipython>=5.5.0->pycaret) (4.8.0)\n",
            "Requirement already satisfied: traitlets>=4.2 in /usr/local/lib/python3.9/dist-packages (from ipython>=5.5.0->pycaret) (5.7.1)\n",
            "Collecting jedi>=0.16\n",
            "  Downloading jedi-0.18.2-py2.py3-none-any.whl (1.6 MB)\n",
            "\u001b[2K     \u001b[90m━━━━━━━━━━━━━━━━━━━━━━━━━━━━━━━━━━━━━━━━\u001b[0m \u001b[32m1.6/1.6 MB\u001b[0m \u001b[31m66.2 MB/s\u001b[0m eta \u001b[36m0:00:00\u001b[0m\n",
            "\u001b[?25hRequirement already satisfied: decorator in /usr/local/lib/python3.9/dist-packages (from ipython>=5.5.0->pycaret) (4.4.2)\n",
            "Requirement already satisfied: ipykernel>=4.5.1 in /usr/local/lib/python3.9/dist-packages (from ipywidgets>=7.6.5->pycaret) (5.5.6)\n",
            "Requirement already satisfied: jupyterlab-widgets>=1.0.0 in /usr/local/lib/python3.9/dist-packages (from ipywidgets>=7.6.5->pycaret) (3.0.7)\n",
            "Requirement already satisfied: widgetsnbextension~=3.6.0 in /usr/local/lib/python3.9/dist-packages (from ipywidgets>=7.6.5->pycaret) (3.6.4)\n",
            "Requirement already satisfied: ipython-genutils~=0.2.0 in /usr/local/lib/python3.9/dist-packages (from ipywidgets>=7.6.5->pycaret) (0.2.0)\n",
            "Requirement already satisfied: wheel in /usr/local/lib/python3.9/dist-packages (from lightgbm>=3.0.0->pycaret) (0.40.0)\n",
            "Requirement already satisfied: python-dateutil>=2.7 in /usr/local/lib/python3.9/dist-packages (from matplotlib>=3.3.0->pycaret) (2.8.2)\n",
            "Requirement already satisfied: contourpy>=1.0.1 in /usr/local/lib/python3.9/dist-packages (from matplotlib>=3.3.0->pycaret) (1.0.7)\n",
            "Requirement already satisfied: pyparsing>=2.3.1 in /usr/local/lib/python3.9/dist-packages (from matplotlib>=3.3.0->pycaret) (3.0.9)\n",
            "Requirement already satisfied: cycler>=0.10 in /usr/local/lib/python3.9/dist-packages (from matplotlib>=3.3.0->pycaret) (0.11.0)\n",
            "Requirement already satisfied: pillow>=6.2.0 in /usr/local/lib/python3.9/dist-packages (from matplotlib>=3.3.0->pycaret) (8.4.0)\n",
            "Requirement already satisfied: importlib-resources>=3.2.0 in /usr/local/lib/python3.9/dist-packages (from matplotlib>=3.3.0->pycaret) (5.12.0)\n",
            "Requirement already satisfied: kiwisolver>=1.0.1 in /usr/local/lib/python3.9/dist-packages (from matplotlib>=3.3.0->pycaret) (1.4.4)\n",
            "Requirement already satisfied: fonttools>=4.22.0 in /usr/local/lib/python3.9/dist-packages (from matplotlib>=3.3.0->pycaret) (4.39.3)\n",
            "Requirement already satisfied: jsonschema>=2.6 in /usr/local/lib/python3.9/dist-packages (from nbformat>=4.2.0->pycaret) (4.3.3)\n",
            "Requirement already satisfied: fastjsonschema in /usr/local/lib/python3.9/dist-packages (from nbformat>=4.2.0->pycaret) (2.16.3)\n",
            "Requirement already satisfied: jupyter-core in /usr/local/lib/python3.9/dist-packages (from nbformat>=4.2.0->pycaret) (5.3.0)\n",
            "Requirement already satisfied: llvmlite<0.40,>=0.39.0dev0 in /usr/local/lib/python3.9/dist-packages (from numba>=0.55.0->pycaret) (0.39.1)\n",
            "Requirement already satisfied: pytz>=2020.1 in /usr/local/lib/python3.9/dist-packages (from pandas<1.6.0,>=1.3.0->pycaret) (2022.7.1)\n",
            "Requirement already satisfied: tenacity>=6.2.0 in /usr/local/lib/python3.9/dist-packages (from plotly>=5.0.0->pycaret) (8.2.2)\n",
            "Collecting dash<3.0.0,>=2.2.0\n",
            "  Downloading dash-2.9.3-py3-none-any.whl (10.2 MB)\n",
            "\u001b[2K     \u001b[90m━━━━━━━━━━━━━━━━━━━━━━━━━━━━━━━━━━━━━━━━\u001b[0m \u001b[32m10.2/10.2 MB\u001b[0m \u001b[31m58.3 MB/s\u001b[0m eta \u001b[36m0:00:00\u001b[0m\n",
            "\u001b[?25hCollecting jupyter-dash>=0.4.2\n",
            "  Downloading jupyter_dash-0.4.2-py3-none-any.whl (23 kB)\n",
            "Collecting orjson<4.0.0,>=3.8.0\n",
            "  Downloading orjson-3.8.10-cp39-cp39-manylinux_2_28_x86_64.whl (140 kB)\n",
            "\u001b[2K     \u001b[90m━━━━━━━━━━━━━━━━━━━━━━━━━━━━━━━━━━━━━━\u001b[0m \u001b[32m140.5/140.5 kB\u001b[0m \u001b[31m15.0 MB/s\u001b[0m eta \u001b[36m0:00:00\u001b[0m\n",
            "\u001b[?25hCollecting trace-updater>=0.0.8\n",
            "  Downloading trace_updater-0.0.9.1-py3-none-any.whl (185 kB)\n",
            "\u001b[2K     \u001b[90m━━━━━━━━━━━━━━━━━━━━━━━━━━━━━━━━━━━━━━\u001b[0m \u001b[32m185.2/185.2 kB\u001b[0m \u001b[31m20.1 MB/s\u001b[0m eta \u001b[36m0:00:00\u001b[0m\n",
            "\u001b[?25hRequirement already satisfied: urllib3 in /usr/local/lib/python3.9/dist-packages (from pmdarima!=1.8.1,<3.0.0,>=1.8.0->pycaret) (1.26.15)\n",
            "Requirement already satisfied: Cython!=0.29.18,!=0.29.31,>=0.29 in /usr/local/lib/python3.9/dist-packages (from pmdarima!=1.8.1,<3.0.0,>=1.8.0->pycaret) (0.29.34)\n",
            "Requirement already satisfied: six in /usr/local/lib/python3.9/dist-packages (from pyod>=1.0.8->pycaret) (1.16.0)\n",
            "Requirement already satisfied: idna<4,>=2.5 in /usr/local/lib/python3.9/dist-packages (from requests>=2.27.1->pycaret) (3.4)\n",
            "Requirement already satisfied: certifi>=2017.4.17 in /usr/local/lib/python3.9/dist-packages (from requests>=2.27.1->pycaret) (2022.12.7)\n",
            "Requirement already satisfied: charset-normalizer~=2.0.0 in /usr/local/lib/python3.9/dist-packages (from requests>=2.27.1->pycaret) (2.0.12)\n",
            "Collecting deprecated>=1.2.13\n",
            "  Downloading Deprecated-1.2.13-py2.py3-none-any.whl (9.6 kB)\n",
            "Collecting dash-core-components==2.0.0\n",
            "  Downloading dash_core_components-2.0.0-py3-none-any.whl (3.8 kB)\n",
            "Requirement already satisfied: Flask>=1.0.4 in /usr/local/lib/python3.9/dist-packages (from dash<3.0.0,>=2.2.0->plotly-resampler>=0.8.3.1->pycaret) (2.2.3)\n",
            "Collecting dash-table==5.0.0\n",
            "  Downloading dash_table-5.0.0-py3-none-any.whl (3.9 kB)\n",
            "Collecting dash-html-components==2.0.0\n",
            "  Downloading dash_html_components-2.0.0-py3-none-any.whl (4.1 kB)\n",
            "Requirement already satisfied: wrapt<2,>=1.10 in /usr/local/lib/python3.9/dist-packages (from deprecated>=1.2.13->sktime>=0.16.1->pycaret) (1.14.1)\n",
            "Requirement already satisfied: tornado>=4.2 in /usr/local/lib/python3.9/dist-packages (from ipykernel>=4.5.1->ipywidgets>=7.6.5->pycaret) (6.2)\n",
            "Requirement already satisfied: jupyter-client in /usr/local/lib/python3.9/dist-packages (from ipykernel>=4.5.1->ipywidgets>=7.6.5->pycaret) (6.1.12)\n",
            "Requirement already satisfied: parso<0.9.0,>=0.8.0 in /usr/local/lib/python3.9/dist-packages (from jedi>=0.16->ipython>=5.5.0->pycaret) (0.8.3)\n",
            "Requirement already satisfied: pyrsistent!=0.17.0,!=0.17.1,!=0.17.2,>=0.14.0 in /usr/local/lib/python3.9/dist-packages (from jsonschema>=2.6->nbformat>=4.2.0->pycaret) (0.19.3)\n",
            "Requirement already satisfied: attrs>=17.4.0 in /usr/local/lib/python3.9/dist-packages (from jsonschema>=2.6->nbformat>=4.2.0->pycaret) (23.1.0)\n",
            "Collecting retrying\n",
            "  Downloading retrying-1.3.4-py3-none-any.whl (11 kB)\n",
            "Collecting ansi2html\n",
            "  Downloading ansi2html-1.8.0-py3-none-any.whl (16 kB)\n",
            "Requirement already satisfied: nest-asyncio in /usr/local/lib/python3.9/dist-packages (from jupyter-dash>=0.4.2->plotly-resampler>=0.8.3.1->pycaret) (1.5.6)\n",
            "Requirement already satisfied: ptyprocess>=0.5 in /usr/local/lib/python3.9/dist-packages (from pexpect>4.3->ipython>=5.5.0->pycaret) (0.7.0)\n",
            "Requirement already satisfied: wcwidth in /usr/local/lib/python3.9/dist-packages (from prompt-toolkit!=3.0.0,!=3.0.1,<3.1.0,>=2.0.0->ipython>=5.5.0->pycaret) (0.2.6)\n",
            "Requirement already satisfied: notebook>=4.4.1 in /usr/local/lib/python3.9/dist-packages (from widgetsnbextension~=3.6.0->ipywidgets>=7.6.5->pycaret) (6.4.8)\n",
            "Requirement already satisfied: platformdirs>=2.5 in /usr/local/lib/python3.9/dist-packages (from jupyter-core->nbformat>=4.2.0->pycaret) (3.2.0)\n",
            "Requirement already satisfied: Werkzeug>=2.2.2 in /usr/local/lib/python3.9/dist-packages (from Flask>=1.0.4->dash<3.0.0,>=2.2.0->plotly-resampler>=0.8.3.1->pycaret) (2.2.3)\n",
            "Requirement already satisfied: itsdangerous>=2.0 in /usr/local/lib/python3.9/dist-packages (from Flask>=1.0.4->dash<3.0.0,>=2.2.0->plotly-resampler>=0.8.3.1->pycaret) (2.1.2)\n",
            "Requirement already satisfied: click>=8.0 in /usr/local/lib/python3.9/dist-packages (from Flask>=1.0.4->dash<3.0.0,>=2.2.0->plotly-resampler>=0.8.3.1->pycaret) (8.1.3)\n",
            "Requirement already satisfied: pyzmq>=17 in /usr/local/lib/python3.9/dist-packages (from notebook>=4.4.1->widgetsnbextension~=3.6.0->ipywidgets>=7.6.5->pycaret) (23.2.1)\n",
            "Requirement already satisfied: argon2-cffi in /usr/local/lib/python3.9/dist-packages (from notebook>=4.4.1->widgetsnbextension~=3.6.0->ipywidgets>=7.6.5->pycaret) (21.3.0)\n",
            "Requirement already satisfied: nbconvert in /usr/local/lib/python3.9/dist-packages (from notebook>=4.4.1->widgetsnbextension~=3.6.0->ipywidgets>=7.6.5->pycaret) (6.5.4)\n",
            "Requirement already satisfied: Send2Trash>=1.8.0 in /usr/local/lib/python3.9/dist-packages (from notebook>=4.4.1->widgetsnbextension~=3.6.0->ipywidgets>=7.6.5->pycaret) (1.8.0)\n",
            "Requirement already satisfied: terminado>=0.8.3 in /usr/local/lib/python3.9/dist-packages (from notebook>=4.4.1->widgetsnbextension~=3.6.0->ipywidgets>=7.6.5->pycaret) (0.17.1)\n",
            "Requirement already satisfied: prometheus-client in /usr/local/lib/python3.9/dist-packages (from notebook>=4.4.1->widgetsnbextension~=3.6.0->ipywidgets>=7.6.5->pycaret) (0.16.0)\n",
            "Requirement already satisfied: argon2-cffi-bindings in /usr/local/lib/python3.9/dist-packages (from argon2-cffi->notebook>=4.4.1->widgetsnbextension~=3.6.0->ipywidgets>=7.6.5->pycaret) (21.2.0)\n",
            "Requirement already satisfied: beautifulsoup4 in /usr/local/lib/python3.9/dist-packages (from nbconvert->notebook>=4.4.1->widgetsnbextension~=3.6.0->ipywidgets>=7.6.5->pycaret) (4.11.2)\n",
            "Requirement already satisfied: lxml in /usr/local/lib/python3.9/dist-packages (from nbconvert->notebook>=4.4.1->widgetsnbextension~=3.6.0->ipywidgets>=7.6.5->pycaret) (4.9.2)\n",
            "Requirement already satisfied: pandocfilters>=1.4.1 in /usr/local/lib/python3.9/dist-packages (from nbconvert->notebook>=4.4.1->widgetsnbextension~=3.6.0->ipywidgets>=7.6.5->pycaret) (1.5.0)\n",
            "Requirement already satisfied: entrypoints>=0.2.2 in /usr/local/lib/python3.9/dist-packages (from nbconvert->notebook>=4.4.1->widgetsnbextension~=3.6.0->ipywidgets>=7.6.5->pycaret) (0.4)\n",
            "Requirement already satisfied: jupyterlab-pygments in /usr/local/lib/python3.9/dist-packages (from nbconvert->notebook>=4.4.1->widgetsnbextension~=3.6.0->ipywidgets>=7.6.5->pycaret) (0.2.2)\n",
            "Requirement already satisfied: mistune<2,>=0.8.1 in /usr/local/lib/python3.9/dist-packages (from nbconvert->notebook>=4.4.1->widgetsnbextension~=3.6.0->ipywidgets>=7.6.5->pycaret) (0.8.4)\n",
            "Requirement already satisfied: nbclient>=0.5.0 in /usr/local/lib/python3.9/dist-packages (from nbconvert->notebook>=4.4.1->widgetsnbextension~=3.6.0->ipywidgets>=7.6.5->pycaret) (0.7.3)\n",
            "Requirement already satisfied: tinycss2 in /usr/local/lib/python3.9/dist-packages (from nbconvert->notebook>=4.4.1->widgetsnbextension~=3.6.0->ipywidgets>=7.6.5->pycaret) (1.2.1)\n",
            "Requirement already satisfied: bleach in /usr/local/lib/python3.9/dist-packages (from nbconvert->notebook>=4.4.1->widgetsnbextension~=3.6.0->ipywidgets>=7.6.5->pycaret) (6.0.0)\n",
            "Requirement already satisfied: defusedxml in /usr/local/lib/python3.9/dist-packages (from nbconvert->notebook>=4.4.1->widgetsnbextension~=3.6.0->ipywidgets>=7.6.5->pycaret) (0.7.1)\n",
            "Requirement already satisfied: cffi>=1.0.1 in /usr/local/lib/python3.9/dist-packages (from argon2-cffi-bindings->argon2-cffi->notebook>=4.4.1->widgetsnbextension~=3.6.0->ipywidgets>=7.6.5->pycaret) (1.15.1)\n",
            "Requirement already satisfied: soupsieve>1.2 in /usr/local/lib/python3.9/dist-packages (from beautifulsoup4->nbconvert->notebook>=4.4.1->widgetsnbextension~=3.6.0->ipywidgets>=7.6.5->pycaret) (2.4.1)\n",
            "Requirement already satisfied: webencodings in /usr/local/lib/python3.9/dist-packages (from bleach->nbconvert->notebook>=4.4.1->widgetsnbextension~=3.6.0->ipywidgets>=7.6.5->pycaret) (0.5.1)\n",
            "Requirement already satisfied: pycparser in /usr/local/lib/python3.9/dist-packages (from cffi>=1.0.1->argon2-cffi-bindings->argon2-cffi->notebook>=4.4.1->widgetsnbextension~=3.6.0->ipywidgets>=7.6.5->pycaret) (2.21)\n",
            "Building wheels for collected packages: plotly-resampler, pyod\n",
            "  Building wheel for plotly-resampler (pyproject.toml) ... \u001b[?25l\u001b[?25hdone\n",
            "  Created wheel for plotly-resampler: filename=plotly_resampler-0.8.3.2-cp39-cp39-manylinux_2_31_x86_64.whl size=75046 sha256=9ddb9ee92a3a6a9ec6b92f6756a9b16bfc824306e853207d6ef7fa4f5993c6f8\n",
            "  Stored in directory: /root/.cache/pip/wheels/9e/36/06/4c11e300918011376af149098621ec7ebe06d8256566d43d51\n",
            "  Building wheel for pyod (setup.py) ... \u001b[?25l\u001b[?25hdone\n",
            "  Created wheel for pyod: filename=pyod-1.0.9-py3-none-any.whl size=184112 sha256=2f77daee8ad2c4e8228d23daab1189e2003d3197295cd8a0dbcbcf0a80a5ef06\n",
            "  Stored in directory: /root/.cache/pip/wheels/1b/9c/b8/9759d7cc64a1e01bb9872ade80cb7db445ccf506e083325106\n",
            "Successfully built plotly-resampler pyod\n",
            "Installing collected packages: trace-updater, kaleido, dash-table, dash-html-components, dash-core-components, xxhash, wurlitzer, schemdraw, retrying, orjson, jedi, deprecation, deprecated, ansi2html, sktime, scikit-plot, pyod, dash, pmdarima, jupyter-dash, category-encoders, tbats, plotly-resampler, pycaret\n",
            "Successfully installed ansi2html-1.8.0 category-encoders-2.6.0 dash-2.9.3 dash-core-components-2.0.0 dash-html-components-2.0.0 dash-table-5.0.0 deprecated-1.2.13 deprecation-2.1.0 jedi-0.18.2 jupyter-dash-0.4.2 kaleido-0.2.1 orjson-3.8.10 plotly-resampler-0.8.3.2 pmdarima-2.0.3 pycaret-3.0.0 pyod-1.0.9 retrying-1.3.4 schemdraw-0.16 scikit-plot-0.3.7 sktime-0.17.1 tbats-1.1.3 trace-updater-0.0.9.1 wurlitzer-3.0.3 xxhash-3.2.0\n"
          ]
        }
      ],
      "source": [
        "!pip install pycaret"
      ]
    },
    {
      "cell_type": "code",
      "execution_count": 129,
      "metadata": {
        "colab": {
          "base_uri": "https://localhost:8080/",
          "height": 1000,
          "referenced_widgets": [
            "3369906a7b604b43b252b757cf7be8a6",
            "af6ca1c30e344a7fa3bf8379b6fa61a9",
            "5d3fb7cbac5b4459a6f7feac59d51e0d",
            "16cc22bdeb744c03aad74e873f91a0e9",
            "221fa32a88194135b1d1d7d584a5d712",
            "c70348cba14b47b6870a85b400c664d3",
            "b33e379e246046e2b6862a8188063986",
            "db342564c5854379940acdf3d4c84c29",
            "c361ab343af748cdb8295ca2608b4998",
            "884f41b799e7409891318c3e31aa8b6f",
            "5dd8b0e9a69045e4b0a3c4e3de375d10"
          ]
        },
        "id": "VaSS1yRhMbvi",
        "outputId": "bc3fec0c-72a8-4704-b7ea-9c939e26ac18"
      },
      "outputs": [
        {
          "data": {
            "text/html": [
              "<style type=\"text/css\">\n",
              "#T_3db94_row8_col1 {\n",
              "  background-color: lightgreen;\n",
              "}\n",
              "</style>\n",
              "<table id=\"T_3db94\" class=\"dataframe\">\n",
              "  <thead>\n",
              "    <tr>\n",
              "      <th class=\"blank level0\" >&nbsp;</th>\n",
              "      <th id=\"T_3db94_level0_col0\" class=\"col_heading level0 col0\" >Description</th>\n",
              "      <th id=\"T_3db94_level0_col1\" class=\"col_heading level0 col1\" >Value</th>\n",
              "    </tr>\n",
              "  </thead>\n",
              "  <tbody>\n",
              "    <tr>\n",
              "      <th id=\"T_3db94_level0_row0\" class=\"row_heading level0 row0\" >0</th>\n",
              "      <td id=\"T_3db94_row0_col0\" class=\"data row0 col0\" >Session id</td>\n",
              "      <td id=\"T_3db94_row0_col1\" class=\"data row0 col1\" >123</td>\n",
              "    </tr>\n",
              "    <tr>\n",
              "      <th id=\"T_3db94_level0_row1\" class=\"row_heading level0 row1\" >1</th>\n",
              "      <td id=\"T_3db94_row1_col0\" class=\"data row1 col0\" >Target</td>\n",
              "      <td id=\"T_3db94_row1_col1\" class=\"data row1 col1\" >Price</td>\n",
              "    </tr>\n",
              "    <tr>\n",
              "      <th id=\"T_3db94_level0_row2\" class=\"row_heading level0 row2\" >2</th>\n",
              "      <td id=\"T_3db94_row2_col0\" class=\"data row2 col0\" >Target type</td>\n",
              "      <td id=\"T_3db94_row2_col1\" class=\"data row2 col1\" >Regression</td>\n",
              "    </tr>\n",
              "    <tr>\n",
              "      <th id=\"T_3db94_level0_row3\" class=\"row_heading level0 row3\" >3</th>\n",
              "      <td id=\"T_3db94_row3_col0\" class=\"data row3 col0\" >Original data shape</td>\n",
              "      <td id=\"T_3db94_row3_col1\" class=\"data row3 col1\" >(1116, 8)</td>\n",
              "    </tr>\n",
              "    <tr>\n",
              "      <th id=\"T_3db94_level0_row4\" class=\"row_heading level0 row4\" >4</th>\n",
              "      <td id=\"T_3db94_row4_col0\" class=\"data row4 col0\" >Transformed data shape</td>\n",
              "      <td id=\"T_3db94_row4_col1\" class=\"data row4 col1\" >(1116, 8)</td>\n",
              "    </tr>\n",
              "    <tr>\n",
              "      <th id=\"T_3db94_level0_row5\" class=\"row_heading level0 row5\" >5</th>\n",
              "      <td id=\"T_3db94_row5_col0\" class=\"data row5 col0\" >Transformed train set shape</td>\n",
              "      <td id=\"T_3db94_row5_col1\" class=\"data row5 col1\" >(781, 8)</td>\n",
              "    </tr>\n",
              "    <tr>\n",
              "      <th id=\"T_3db94_level0_row6\" class=\"row_heading level0 row6\" >6</th>\n",
              "      <td id=\"T_3db94_row6_col0\" class=\"data row6 col0\" >Transformed test set shape</td>\n",
              "      <td id=\"T_3db94_row6_col1\" class=\"data row6 col1\" >(335, 8)</td>\n",
              "    </tr>\n",
              "    <tr>\n",
              "      <th id=\"T_3db94_level0_row7\" class=\"row_heading level0 row7\" >7</th>\n",
              "      <td id=\"T_3db94_row7_col0\" class=\"data row7 col0\" >Numeric features</td>\n",
              "      <td id=\"T_3db94_row7_col1\" class=\"data row7 col1\" >7</td>\n",
              "    </tr>\n",
              "    <tr>\n",
              "      <th id=\"T_3db94_level0_row8\" class=\"row_heading level0 row8\" >8</th>\n",
              "      <td id=\"T_3db94_row8_col0\" class=\"data row8 col0\" >Preprocess</td>\n",
              "      <td id=\"T_3db94_row8_col1\" class=\"data row8 col1\" >True</td>\n",
              "    </tr>\n",
              "    <tr>\n",
              "      <th id=\"T_3db94_level0_row9\" class=\"row_heading level0 row9\" >9</th>\n",
              "      <td id=\"T_3db94_row9_col0\" class=\"data row9 col0\" >Imputation type</td>\n",
              "      <td id=\"T_3db94_row9_col1\" class=\"data row9 col1\" >simple</td>\n",
              "    </tr>\n",
              "    <tr>\n",
              "      <th id=\"T_3db94_level0_row10\" class=\"row_heading level0 row10\" >10</th>\n",
              "      <td id=\"T_3db94_row10_col0\" class=\"data row10 col0\" >Numeric imputation</td>\n",
              "      <td id=\"T_3db94_row10_col1\" class=\"data row10 col1\" >mean</td>\n",
              "    </tr>\n",
              "    <tr>\n",
              "      <th id=\"T_3db94_level0_row11\" class=\"row_heading level0 row11\" >11</th>\n",
              "      <td id=\"T_3db94_row11_col0\" class=\"data row11 col0\" >Categorical imputation</td>\n",
              "      <td id=\"T_3db94_row11_col1\" class=\"data row11 col1\" >mode</td>\n",
              "    </tr>\n",
              "    <tr>\n",
              "      <th id=\"T_3db94_level0_row12\" class=\"row_heading level0 row12\" >12</th>\n",
              "      <td id=\"T_3db94_row12_col0\" class=\"data row12 col0\" >Fold Generator</td>\n",
              "      <td id=\"T_3db94_row12_col1\" class=\"data row12 col1\" >KFold</td>\n",
              "    </tr>\n",
              "    <tr>\n",
              "      <th id=\"T_3db94_level0_row13\" class=\"row_heading level0 row13\" >13</th>\n",
              "      <td id=\"T_3db94_row13_col0\" class=\"data row13 col0\" >Fold Number</td>\n",
              "      <td id=\"T_3db94_row13_col1\" class=\"data row13 col1\" >10</td>\n",
              "    </tr>\n",
              "    <tr>\n",
              "      <th id=\"T_3db94_level0_row14\" class=\"row_heading level0 row14\" >14</th>\n",
              "      <td id=\"T_3db94_row14_col0\" class=\"data row14 col0\" >CPU Jobs</td>\n",
              "      <td id=\"T_3db94_row14_col1\" class=\"data row14 col1\" >-1</td>\n",
              "    </tr>\n",
              "    <tr>\n",
              "      <th id=\"T_3db94_level0_row15\" class=\"row_heading level0 row15\" >15</th>\n",
              "      <td id=\"T_3db94_row15_col0\" class=\"data row15 col0\" >Use GPU</td>\n",
              "      <td id=\"T_3db94_row15_col1\" class=\"data row15 col1\" >False</td>\n",
              "    </tr>\n",
              "    <tr>\n",
              "      <th id=\"T_3db94_level0_row16\" class=\"row_heading level0 row16\" >16</th>\n",
              "      <td id=\"T_3db94_row16_col0\" class=\"data row16 col0\" >Log Experiment</td>\n",
              "      <td id=\"T_3db94_row16_col1\" class=\"data row16 col1\" >False</td>\n",
              "    </tr>\n",
              "    <tr>\n",
              "      <th id=\"T_3db94_level0_row17\" class=\"row_heading level0 row17\" >17</th>\n",
              "      <td id=\"T_3db94_row17_col0\" class=\"data row17 col0\" >Experiment Name</td>\n",
              "      <td id=\"T_3db94_row17_col1\" class=\"data row17 col1\" >reg-default-name</td>\n",
              "    </tr>\n",
              "    <tr>\n",
              "      <th id=\"T_3db94_level0_row18\" class=\"row_heading level0 row18\" >18</th>\n",
              "      <td id=\"T_3db94_row18_col0\" class=\"data row18 col0\" >USI</td>\n",
              "      <td id=\"T_3db94_row18_col1\" class=\"data row18 col1\" >eaaa</td>\n",
              "    </tr>\n",
              "  </tbody>\n",
              "</table>\n"
            ],
            "text/plain": [
              "<pandas.io.formats.style.Styler at 0x7f0ac93ba0d0>"
            ]
          },
          "metadata": {},
          "output_type": "display_data"
        },
        {
          "data": {
            "text/html": [],
            "text/plain": [
              "<IPython.core.display.HTML object>"
            ]
          },
          "metadata": {},
          "output_type": "display_data"
        },
        {
          "data": {
            "text/html": [
              "<style type=\"text/css\">\n",
              "#T_e7d2d th {\n",
              "  text-align: left;\n",
              "}\n",
              "#T_e7d2d_row0_col0, #T_e7d2d_row1_col0, #T_e7d2d_row1_col1, #T_e7d2d_row1_col2, #T_e7d2d_row1_col3, #T_e7d2d_row1_col5, #T_e7d2d_row1_col6, #T_e7d2d_row2_col0, #T_e7d2d_row3_col0, #T_e7d2d_row3_col1, #T_e7d2d_row3_col3, #T_e7d2d_row4_col0, #T_e7d2d_row4_col1, #T_e7d2d_row4_col3, #T_e7d2d_row5_col0, #T_e7d2d_row6_col0, #T_e7d2d_row6_col1, #T_e7d2d_row6_col2, #T_e7d2d_row6_col3, #T_e7d2d_row6_col5, #T_e7d2d_row7_col0, #T_e7d2d_row7_col1, #T_e7d2d_row7_col2, #T_e7d2d_row7_col3, #T_e7d2d_row7_col4, #T_e7d2d_row7_col5, #T_e7d2d_row7_col6, #T_e7d2d_row8_col0, #T_e7d2d_row8_col1, #T_e7d2d_row8_col2, #T_e7d2d_row8_col3, #T_e7d2d_row8_col4, #T_e7d2d_row8_col5, #T_e7d2d_row8_col6, #T_e7d2d_row9_col0, #T_e7d2d_row9_col1, #T_e7d2d_row9_col2, #T_e7d2d_row9_col3, #T_e7d2d_row9_col4, #T_e7d2d_row9_col5, #T_e7d2d_row9_col6, #T_e7d2d_row10_col0, #T_e7d2d_row10_col1, #T_e7d2d_row10_col2, #T_e7d2d_row10_col3, #T_e7d2d_row10_col4, #T_e7d2d_row10_col5, #T_e7d2d_row10_col6, #T_e7d2d_row11_col0, #T_e7d2d_row11_col1, #T_e7d2d_row11_col2, #T_e7d2d_row11_col3, #T_e7d2d_row11_col4, #T_e7d2d_row11_col5, #T_e7d2d_row11_col6, #T_e7d2d_row12_col0, #T_e7d2d_row12_col1, #T_e7d2d_row12_col2, #T_e7d2d_row12_col3, #T_e7d2d_row12_col4, #T_e7d2d_row12_col5, #T_e7d2d_row12_col6, #T_e7d2d_row13_col0, #T_e7d2d_row13_col1, #T_e7d2d_row13_col2, #T_e7d2d_row13_col3, #T_e7d2d_row13_col4, #T_e7d2d_row13_col5, #T_e7d2d_row13_col6, #T_e7d2d_row14_col0, #T_e7d2d_row14_col1, #T_e7d2d_row14_col2, #T_e7d2d_row14_col3, #T_e7d2d_row14_col4, #T_e7d2d_row14_col5, #T_e7d2d_row14_col6, #T_e7d2d_row15_col0, #T_e7d2d_row15_col1, #T_e7d2d_row15_col2, #T_e7d2d_row15_col3, #T_e7d2d_row15_col4, #T_e7d2d_row15_col5, #T_e7d2d_row15_col6, #T_e7d2d_row16_col0, #T_e7d2d_row16_col1, #T_e7d2d_row16_col2, #T_e7d2d_row16_col3, #T_e7d2d_row16_col4, #T_e7d2d_row16_col5, #T_e7d2d_row16_col6, #T_e7d2d_row17_col0, #T_e7d2d_row17_col1, #T_e7d2d_row17_col2, #T_e7d2d_row17_col3, #T_e7d2d_row17_col4, #T_e7d2d_row17_col5, #T_e7d2d_row17_col6, #T_e7d2d_row18_col0, #T_e7d2d_row18_col1, #T_e7d2d_row18_col2, #T_e7d2d_row18_col3, #T_e7d2d_row18_col4, #T_e7d2d_row18_col5, #T_e7d2d_row18_col6 {\n",
              "  text-align: left;\n",
              "}\n",
              "#T_e7d2d_row0_col1, #T_e7d2d_row0_col2, #T_e7d2d_row0_col3, #T_e7d2d_row0_col4, #T_e7d2d_row0_col5, #T_e7d2d_row0_col6, #T_e7d2d_row1_col4, #T_e7d2d_row2_col1, #T_e7d2d_row2_col2, #T_e7d2d_row2_col3, #T_e7d2d_row2_col4, #T_e7d2d_row2_col5, #T_e7d2d_row2_col6, #T_e7d2d_row3_col2, #T_e7d2d_row3_col4, #T_e7d2d_row3_col5, #T_e7d2d_row3_col6, #T_e7d2d_row4_col2, #T_e7d2d_row4_col4, #T_e7d2d_row4_col5, #T_e7d2d_row4_col6, #T_e7d2d_row5_col1, #T_e7d2d_row5_col2, #T_e7d2d_row5_col3, #T_e7d2d_row5_col4, #T_e7d2d_row5_col5, #T_e7d2d_row5_col6, #T_e7d2d_row6_col4, #T_e7d2d_row6_col6 {\n",
              "  text-align: left;\n",
              "  background-color: yellow;\n",
              "}\n",
              "#T_e7d2d_row0_col7, #T_e7d2d_row1_col7, #T_e7d2d_row2_col7, #T_e7d2d_row3_col7, #T_e7d2d_row4_col7, #T_e7d2d_row5_col7, #T_e7d2d_row6_col7, #T_e7d2d_row7_col7, #T_e7d2d_row8_col7, #T_e7d2d_row9_col7, #T_e7d2d_row10_col7, #T_e7d2d_row11_col7, #T_e7d2d_row12_col7, #T_e7d2d_row13_col7, #T_e7d2d_row14_col7, #T_e7d2d_row15_col7, #T_e7d2d_row16_col7, #T_e7d2d_row18_col7 {\n",
              "  text-align: left;\n",
              "  background-color: lightgrey;\n",
              "}\n",
              "#T_e7d2d_row17_col7 {\n",
              "  text-align: left;\n",
              "  background-color: yellow;\n",
              "  background-color: lightgrey;\n",
              "}\n",
              "</style>\n",
              "<table id=\"T_e7d2d\" class=\"dataframe\">\n",
              "  <thead>\n",
              "    <tr>\n",
              "      <th class=\"blank level0\" >&nbsp;</th>\n",
              "      <th id=\"T_e7d2d_level0_col0\" class=\"col_heading level0 col0\" >Model</th>\n",
              "      <th id=\"T_e7d2d_level0_col1\" class=\"col_heading level0 col1\" >MAE</th>\n",
              "      <th id=\"T_e7d2d_level0_col2\" class=\"col_heading level0 col2\" >MSE</th>\n",
              "      <th id=\"T_e7d2d_level0_col3\" class=\"col_heading level0 col3\" >RMSE</th>\n",
              "      <th id=\"T_e7d2d_level0_col4\" class=\"col_heading level0 col4\" >R2</th>\n",
              "      <th id=\"T_e7d2d_level0_col5\" class=\"col_heading level0 col5\" >RMSLE</th>\n",
              "      <th id=\"T_e7d2d_level0_col6\" class=\"col_heading level0 col6\" >MAPE</th>\n",
              "      <th id=\"T_e7d2d_level0_col7\" class=\"col_heading level0 col7\" >TT (Sec)</th>\n",
              "    </tr>\n",
              "  </thead>\n",
              "  <tbody>\n",
              "    <tr>\n",
              "      <th id=\"T_e7d2d_level0_row0\" class=\"row_heading level0 row0\" >knn</th>\n",
              "      <td id=\"T_e7d2d_row0_col0\" class=\"data row0 col0\" >K Neighbors Regressor</td>\n",
              "      <td id=\"T_e7d2d_row0_col1\" class=\"data row0 col1\" >0.0000</td>\n",
              "      <td id=\"T_e7d2d_row0_col2\" class=\"data row0 col2\" >0.0000</td>\n",
              "      <td id=\"T_e7d2d_row0_col3\" class=\"data row0 col3\" >0.0000</td>\n",
              "      <td id=\"T_e7d2d_row0_col4\" class=\"data row0 col4\" >1.0000</td>\n",
              "      <td id=\"T_e7d2d_row0_col5\" class=\"data row0 col5\" >0.0000</td>\n",
              "      <td id=\"T_e7d2d_row0_col6\" class=\"data row0 col6\" >0.0000</td>\n",
              "      <td id=\"T_e7d2d_row0_col7\" class=\"data row0 col7\" >0.0750</td>\n",
              "    </tr>\n",
              "    <tr>\n",
              "      <th id=\"T_e7d2d_level0_row1\" class=\"row_heading level0 row1\" >gbr</th>\n",
              "      <td id=\"T_e7d2d_row1_col0\" class=\"data row1 col0\" >Gradient Boosting Regressor</td>\n",
              "      <td id=\"T_e7d2d_row1_col1\" class=\"data row1 col1\" >0.1454</td>\n",
              "      <td id=\"T_e7d2d_row1_col2\" class=\"data row1 col2\" >0.0409</td>\n",
              "      <td id=\"T_e7d2d_row1_col3\" class=\"data row1 col3\" >0.1951</td>\n",
              "      <td id=\"T_e7d2d_row1_col4\" class=\"data row1 col4\" >1.0000</td>\n",
              "      <td id=\"T_e7d2d_row1_col5\" class=\"data row1 col5\" >0.0039</td>\n",
              "      <td id=\"T_e7d2d_row1_col6\" class=\"data row1 col6\" >0.0028</td>\n",
              "      <td id=\"T_e7d2d_row1_col7\" class=\"data row1 col7\" >0.1900</td>\n",
              "    </tr>\n",
              "    <tr>\n",
              "      <th id=\"T_e7d2d_level0_row2\" class=\"row_heading level0 row2\" >rf</th>\n",
              "      <td id=\"T_e7d2d_row2_col0\" class=\"data row2 col0\" >Random Forest Regressor</td>\n",
              "      <td id=\"T_e7d2d_row2_col1\" class=\"data row2 col1\" >0.0000</td>\n",
              "      <td id=\"T_e7d2d_row2_col2\" class=\"data row2 col2\" >0.0000</td>\n",
              "      <td id=\"T_e7d2d_row2_col3\" class=\"data row2 col3\" >0.0000</td>\n",
              "      <td id=\"T_e7d2d_row2_col4\" class=\"data row2 col4\" >1.0000</td>\n",
              "      <td id=\"T_e7d2d_row2_col5\" class=\"data row2 col5\" >0.0000</td>\n",
              "      <td id=\"T_e7d2d_row2_col6\" class=\"data row2 col6\" >0.0000</td>\n",
              "      <td id=\"T_e7d2d_row2_col7\" class=\"data row2 col7\" >0.3890</td>\n",
              "    </tr>\n",
              "    <tr>\n",
              "      <th id=\"T_e7d2d_level0_row3\" class=\"row_heading level0 row3\" >lightgbm</th>\n",
              "      <td id=\"T_e7d2d_row3_col0\" class=\"data row3 col0\" >Light Gradient Boosting Machine</td>\n",
              "      <td id=\"T_e7d2d_row3_col1\" class=\"data row3 col1\" >0.0008</td>\n",
              "      <td id=\"T_e7d2d_row3_col2\" class=\"data row3 col2\" >0.0000</td>\n",
              "      <td id=\"T_e7d2d_row3_col3\" class=\"data row3 col3\" >0.0010</td>\n",
              "      <td id=\"T_e7d2d_row3_col4\" class=\"data row3 col4\" >1.0000</td>\n",
              "      <td id=\"T_e7d2d_row3_col5\" class=\"data row3 col5\" >0.0000</td>\n",
              "      <td id=\"T_e7d2d_row3_col6\" class=\"data row3 col6\" >0.0000</td>\n",
              "      <td id=\"T_e7d2d_row3_col7\" class=\"data row3 col7\" >0.1620</td>\n",
              "    </tr>\n",
              "    <tr>\n",
              "      <th id=\"T_e7d2d_level0_row4\" class=\"row_heading level0 row4\" >xgboost</th>\n",
              "      <td id=\"T_e7d2d_row4_col0\" class=\"data row4 col0\" >Extreme Gradient Boosting</td>\n",
              "      <td id=\"T_e7d2d_row4_col1\" class=\"data row4 col1\" >0.0001</td>\n",
              "      <td id=\"T_e7d2d_row4_col2\" class=\"data row4 col2\" >0.0000</td>\n",
              "      <td id=\"T_e7d2d_row4_col3\" class=\"data row4 col3\" >0.0001</td>\n",
              "      <td id=\"T_e7d2d_row4_col4\" class=\"data row4 col4\" >1.0000</td>\n",
              "      <td id=\"T_e7d2d_row4_col5\" class=\"data row4 col5\" >0.0000</td>\n",
              "      <td id=\"T_e7d2d_row4_col6\" class=\"data row4 col6\" >0.0000</td>\n",
              "      <td id=\"T_e7d2d_row4_col7\" class=\"data row4 col7\" >0.0840</td>\n",
              "    </tr>\n",
              "    <tr>\n",
              "      <th id=\"T_e7d2d_level0_row5\" class=\"row_heading level0 row5\" >dt</th>\n",
              "      <td id=\"T_e7d2d_row5_col0\" class=\"data row5 col0\" >Decision Tree Regressor</td>\n",
              "      <td id=\"T_e7d2d_row5_col1\" class=\"data row5 col1\" >0.0000</td>\n",
              "      <td id=\"T_e7d2d_row5_col2\" class=\"data row5 col2\" >0.0000</td>\n",
              "      <td id=\"T_e7d2d_row5_col3\" class=\"data row5 col3\" >0.0000</td>\n",
              "      <td id=\"T_e7d2d_row5_col4\" class=\"data row5 col4\" >1.0000</td>\n",
              "      <td id=\"T_e7d2d_row5_col5\" class=\"data row5 col5\" >0.0000</td>\n",
              "      <td id=\"T_e7d2d_row5_col6\" class=\"data row5 col6\" >0.0000</td>\n",
              "      <td id=\"T_e7d2d_row5_col7\" class=\"data row5 col7\" >0.0730</td>\n",
              "    </tr>\n",
              "    <tr>\n",
              "      <th id=\"T_e7d2d_level0_row6\" class=\"row_heading level0 row6\" >et</th>\n",
              "      <td id=\"T_e7d2d_row6_col0\" class=\"data row6 col0\" >Extra Trees Regressor</td>\n",
              "      <td id=\"T_e7d2d_row6_col1\" class=\"data row6 col1\" >0.0006</td>\n",
              "      <td id=\"T_e7d2d_row6_col2\" class=\"data row6 col2\" >0.0003</td>\n",
              "      <td id=\"T_e7d2d_row6_col3\" class=\"data row6 col3\" >0.0053</td>\n",
              "      <td id=\"T_e7d2d_row6_col4\" class=\"data row6 col4\" >1.0000</td>\n",
              "      <td id=\"T_e7d2d_row6_col5\" class=\"data row6 col5\" >0.0001</td>\n",
              "      <td id=\"T_e7d2d_row6_col6\" class=\"data row6 col6\" >0.0000</td>\n",
              "      <td id=\"T_e7d2d_row6_col7\" class=\"data row6 col7\" >0.4500</td>\n",
              "    </tr>\n",
              "    <tr>\n",
              "      <th id=\"T_e7d2d_level0_row7\" class=\"row_heading level0 row7\" >ada</th>\n",
              "      <td id=\"T_e7d2d_row7_col0\" class=\"data row7 col0\" >AdaBoost Regressor</td>\n",
              "      <td id=\"T_e7d2d_row7_col1\" class=\"data row7 col1\" >6.4253</td>\n",
              "      <td id=\"T_e7d2d_row7_col2\" class=\"data row7 col2\" >75.8943</td>\n",
              "      <td id=\"T_e7d2d_row7_col3\" class=\"data row7 col3\" >8.5933</td>\n",
              "      <td id=\"T_e7d2d_row7_col4\" class=\"data row7 col4\" >0.9468</td>\n",
              "      <td id=\"T_e7d2d_row7_col5\" class=\"data row7 col5\" >0.1550</td>\n",
              "      <td id=\"T_e7d2d_row7_col6\" class=\"data row7 col6\" >0.1236</td>\n",
              "      <td id=\"T_e7d2d_row7_col7\" class=\"data row7 col7\" >0.0490</td>\n",
              "    </tr>\n",
              "    <tr>\n",
              "      <th id=\"T_e7d2d_level0_row8\" class=\"row_heading level0 row8\" >ridge</th>\n",
              "      <td id=\"T_e7d2d_row8_col0\" class=\"data row8 col0\" >Ridge Regression</td>\n",
              "      <td id=\"T_e7d2d_row8_col1\" class=\"data row8 col1\" >20.5068</td>\n",
              "      <td id=\"T_e7d2d_row8_col2\" class=\"data row8 col2\" >723.8041</td>\n",
              "      <td id=\"T_e7d2d_row8_col3\" class=\"data row8 col3\" >26.8275</td>\n",
              "      <td id=\"T_e7d2d_row8_col4\" class=\"data row8 col4\" >0.5143</td>\n",
              "      <td id=\"T_e7d2d_row8_col5\" class=\"data row8 col5\" >0.3697</td>\n",
              "      <td id=\"T_e7d2d_row8_col6\" class=\"data row8 col6\" >0.3560</td>\n",
              "      <td id=\"T_e7d2d_row8_col7\" class=\"data row8 col7\" >0.0770</td>\n",
              "    </tr>\n",
              "    <tr>\n",
              "      <th id=\"T_e7d2d_level0_row9\" class=\"row_heading level0 row9\" >br</th>\n",
              "      <td id=\"T_e7d2d_row9_col0\" class=\"data row9 col0\" >Bayesian Ridge</td>\n",
              "      <td id=\"T_e7d2d_row9_col1\" class=\"data row9 col1\" >20.4098</td>\n",
              "      <td id=\"T_e7d2d_row9_col2\" class=\"data row9 col2\" >724.2585</td>\n",
              "      <td id=\"T_e7d2d_row9_col3\" class=\"data row9 col3\" >26.8342</td>\n",
              "      <td id=\"T_e7d2d_row9_col4\" class=\"data row9 col4\" >0.5142</td>\n",
              "      <td id=\"T_e7d2d_row9_col5\" class=\"data row9 col5\" >0.3672</td>\n",
              "      <td id=\"T_e7d2d_row9_col6\" class=\"data row9 col6\" >0.3537</td>\n",
              "      <td id=\"T_e7d2d_row9_col7\" class=\"data row9 col7\" >0.0740</td>\n",
              "    </tr>\n",
              "    <tr>\n",
              "      <th id=\"T_e7d2d_level0_row10\" class=\"row_heading level0 row10\" >lr</th>\n",
              "      <td id=\"T_e7d2d_row10_col0\" class=\"data row10 col0\" >Linear Regression</td>\n",
              "      <td id=\"T_e7d2d_row10_col1\" class=\"data row10 col1\" >20.5881</td>\n",
              "      <td id=\"T_e7d2d_row10_col2\" class=\"data row10 col2\" >723.7562</td>\n",
              "      <td id=\"T_e7d2d_row10_col3\" class=\"data row10 col3\" >26.8280</td>\n",
              "      <td id=\"T_e7d2d_row10_col4\" class=\"data row10 col4\" >0.5142</td>\n",
              "      <td id=\"T_e7d2d_row10_col5\" class=\"data row10 col5\" >0.3716</td>\n",
              "      <td id=\"T_e7d2d_row10_col6\" class=\"data row10 col6\" >0.3580</td>\n",
              "      <td id=\"T_e7d2d_row10_col7\" class=\"data row10 col7\" >0.6190</td>\n",
              "    </tr>\n",
              "    <tr>\n",
              "      <th id=\"T_e7d2d_level0_row11\" class=\"row_heading level0 row11\" >lasso</th>\n",
              "      <td id=\"T_e7d2d_row11_col0\" class=\"data row11 col0\" >Lasso Regression</td>\n",
              "      <td id=\"T_e7d2d_row11_col1\" class=\"data row11 col1\" >20.4793</td>\n",
              "      <td id=\"T_e7d2d_row11_col2\" class=\"data row11 col2\" >758.2093</td>\n",
              "      <td id=\"T_e7d2d_row11_col3\" class=\"data row11 col3\" >27.4404</td>\n",
              "      <td id=\"T_e7d2d_row11_col4\" class=\"data row11 col4\" >0.4930</td>\n",
              "      <td id=\"T_e7d2d_row11_col5\" class=\"data row11 col5\" >0.3566</td>\n",
              "      <td id=\"T_e7d2d_row11_col6\" class=\"data row11 col6\" >0.3486</td>\n",
              "      <td id=\"T_e7d2d_row11_col7\" class=\"data row11 col7\" >0.0620</td>\n",
              "    </tr>\n",
              "    <tr>\n",
              "      <th id=\"T_e7d2d_level0_row12\" class=\"row_heading level0 row12\" >llar</th>\n",
              "      <td id=\"T_e7d2d_row12_col0\" class=\"data row12 col0\" >Lasso Least Angle Regression</td>\n",
              "      <td id=\"T_e7d2d_row12_col1\" class=\"data row12 col1\" >20.4786</td>\n",
              "      <td id=\"T_e7d2d_row12_col2\" class=\"data row12 col2\" >758.2153</td>\n",
              "      <td id=\"T_e7d2d_row12_col3\" class=\"data row12 col3\" >27.4405</td>\n",
              "      <td id=\"T_e7d2d_row12_col4\" class=\"data row12 col4\" >0.4930</td>\n",
              "      <td id=\"T_e7d2d_row12_col5\" class=\"data row12 col5\" >0.3566</td>\n",
              "      <td id=\"T_e7d2d_row12_col6\" class=\"data row12 col6\" >0.3486</td>\n",
              "      <td id=\"T_e7d2d_row12_col7\" class=\"data row12 col7\" >0.1300</td>\n",
              "    </tr>\n",
              "    <tr>\n",
              "      <th id=\"T_e7d2d_level0_row13\" class=\"row_heading level0 row13\" >en</th>\n",
              "      <td id=\"T_e7d2d_row13_col0\" class=\"data row13 col0\" >Elastic Net</td>\n",
              "      <td id=\"T_e7d2d_row13_col1\" class=\"data row13 col1\" >20.5706</td>\n",
              "      <td id=\"T_e7d2d_row13_col2\" class=\"data row13 col2\" >824.3234</td>\n",
              "      <td id=\"T_e7d2d_row13_col3\" class=\"data row13 col3\" >28.6028</td>\n",
              "      <td id=\"T_e7d2d_row13_col4\" class=\"data row13 col4\" >0.4503</td>\n",
              "      <td id=\"T_e7d2d_row13_col5\" class=\"data row13 col5\" >0.3755</td>\n",
              "      <td id=\"T_e7d2d_row13_col6\" class=\"data row13 col6\" >0.3603</td>\n",
              "      <td id=\"T_e7d2d_row13_col7\" class=\"data row13 col7\" >0.0790</td>\n",
              "    </tr>\n",
              "    <tr>\n",
              "      <th id=\"T_e7d2d_level0_row14\" class=\"row_heading level0 row14\" >lar</th>\n",
              "      <td id=\"T_e7d2d_row14_col0\" class=\"data row14 col0\" >Least Angle Regression</td>\n",
              "      <td id=\"T_e7d2d_row14_col1\" class=\"data row14 col1\" >25.2895</td>\n",
              "      <td id=\"T_e7d2d_row14_col2\" class=\"data row14 col2\" >867.1789</td>\n",
              "      <td id=\"T_e7d2d_row14_col3\" class=\"data row14 col3\" >29.2991</td>\n",
              "      <td id=\"T_e7d2d_row14_col4\" class=\"data row14 col4\" >0.4201</td>\n",
              "      <td id=\"T_e7d2d_row14_col5\" class=\"data row14 col5\" >0.4869</td>\n",
              "      <td id=\"T_e7d2d_row14_col6\" class=\"data row14 col6\" >0.4731</td>\n",
              "      <td id=\"T_e7d2d_row14_col7\" class=\"data row14 col7\" >0.1650</td>\n",
              "    </tr>\n",
              "    <tr>\n",
              "      <th id=\"T_e7d2d_level0_row15\" class=\"row_heading level0 row15\" >huber</th>\n",
              "      <td id=\"T_e7d2d_row15_col0\" class=\"data row15 col0\" >Huber Regressor</td>\n",
              "      <td id=\"T_e7d2d_row15_col1\" class=\"data row15 col1\" >17.0740</td>\n",
              "      <td id=\"T_e7d2d_row15_col2\" class=\"data row15 col2\" >952.9826</td>\n",
              "      <td id=\"T_e7d2d_row15_col3\" class=\"data row15 col3\" >30.6053</td>\n",
              "      <td id=\"T_e7d2d_row15_col4\" class=\"data row15 col4\" >0.3744</td>\n",
              "      <td id=\"T_e7d2d_row15_col5\" class=\"data row15 col5\" >0.3008</td>\n",
              "      <td id=\"T_e7d2d_row15_col6\" class=\"data row15 col6\" >0.1995</td>\n",
              "      <td id=\"T_e7d2d_row15_col7\" class=\"data row15 col7\" >0.1290</td>\n",
              "    </tr>\n",
              "    <tr>\n",
              "      <th id=\"T_e7d2d_level0_row16\" class=\"row_heading level0 row16\" >omp</th>\n",
              "      <td id=\"T_e7d2d_row16_col0\" class=\"data row16 col0\" >Orthogonal Matching Pursuit</td>\n",
              "      <td id=\"T_e7d2d_row16_col1\" class=\"data row16 col1\" >23.3339</td>\n",
              "      <td id=\"T_e7d2d_row16_col2\" class=\"data row16 col2\" >1012.5067</td>\n",
              "      <td id=\"T_e7d2d_row16_col3\" class=\"data row16 col3\" >31.6751</td>\n",
              "      <td id=\"T_e7d2d_row16_col4\" class=\"data row16 col4\" >0.3266</td>\n",
              "      <td id=\"T_e7d2d_row16_col5\" class=\"data row16 col5\" >0.4987</td>\n",
              "      <td id=\"T_e7d2d_row16_col6\" class=\"data row16 col6\" >0.5104</td>\n",
              "      <td id=\"T_e7d2d_row16_col7\" class=\"data row16 col7\" >0.1130</td>\n",
              "    </tr>\n",
              "    <tr>\n",
              "      <th id=\"T_e7d2d_level0_row17\" class=\"row_heading level0 row17\" >dummy</th>\n",
              "      <td id=\"T_e7d2d_row17_col0\" class=\"data row17 col0\" >Dummy Regressor</td>\n",
              "      <td id=\"T_e7d2d_row17_col1\" class=\"data row17 col1\" >28.4755</td>\n",
              "      <td id=\"T_e7d2d_row17_col2\" class=\"data row17 col2\" >1517.5931</td>\n",
              "      <td id=\"T_e7d2d_row17_col3\" class=\"data row17 col3\" >38.7761</td>\n",
              "      <td id=\"T_e7d2d_row17_col4\" class=\"data row17 col4\" >-0.0072</td>\n",
              "      <td id=\"T_e7d2d_row17_col5\" class=\"data row17 col5\" >0.5646</td>\n",
              "      <td id=\"T_e7d2d_row17_col6\" class=\"data row17 col6\" >0.5826</td>\n",
              "      <td id=\"T_e7d2d_row17_col7\" class=\"data row17 col7\" >0.0420</td>\n",
              "    </tr>\n",
              "    <tr>\n",
              "      <th id=\"T_e7d2d_level0_row18\" class=\"row_heading level0 row18\" >par</th>\n",
              "      <td id=\"T_e7d2d_row18_col0\" class=\"data row18 col0\" >Passive Aggressive Regressor</td>\n",
              "      <td id=\"T_e7d2d_row18_col1\" class=\"data row18 col1\" >30.3007</td>\n",
              "      <td id=\"T_e7d2d_row18_col2\" class=\"data row18 col2\" >1648.2808</td>\n",
              "      <td id=\"T_e7d2d_row18_col3\" class=\"data row18 col3\" >39.8853</td>\n",
              "      <td id=\"T_e7d2d_row18_col4\" class=\"data row18 col4\" >-0.1831</td>\n",
              "      <td id=\"T_e7d2d_row18_col5\" class=\"data row18 col5\" >0.5794</td>\n",
              "      <td id=\"T_e7d2d_row18_col6\" class=\"data row18 col6\" >0.6641</td>\n",
              "      <td id=\"T_e7d2d_row18_col7\" class=\"data row18 col7\" >0.0640</td>\n",
              "    </tr>\n",
              "  </tbody>\n",
              "</table>\n"
            ],
            "text/plain": [
              "<pandas.io.formats.style.Styler at 0x7f0adb506220>"
            ]
          },
          "metadata": {},
          "output_type": "display_data"
        },
        {
          "data": {
            "application/vnd.jupyter.widget-view+json": {
              "model_id": "3369906a7b604b43b252b757cf7be8a6",
              "version_major": 2,
              "version_minor": 0
            },
            "text/plain": [
              "Processing:   0%|          | 0/81 [00:00<?, ?it/s]"
            ]
          },
          "metadata": {
            "application/vnd.jupyter.widget-view+json": {
              "colab": {
                "custom_widget_manager": {
                  "url": "https://ssl.gstatic.com/colaboratory-static/widgets/colab-cdn-widget-manager/b3e629b1971e1542/manager.min.js"
                }
              }
            }
          },
          "output_type": "display_data"
        },
        {
          "data": {
            "text/html": [],
            "text/plain": [
              "<IPython.core.display.HTML object>"
            ]
          },
          "metadata": {},
          "output_type": "display_data"
        }
      ],
      "source": [
        "from pycaret.regression import *\n",
        "s = setup(data = data, target = 'Price', session_id=123)\n",
        "best = compare_models()"
      ]
    },
    {
      "cell_type": "code",
      "execution_count": 130,
      "metadata": {
        "colab": {
          "base_uri": "https://localhost:8080/",
          "height": 457,
          "referenced_widgets": [
            "7e1907d093e940eebdd4b0be6c22a0a2",
            "2fce5b6c8df0440586b2e29c03a34cfd",
            "0c218262704048989c49c36affc96e07",
            "d9311658eb2c4aef83d5c2ea6c3c3115",
            "75b0399e58d940f9a97ecb57d51a2882",
            "c3fcf21cb02248c8a2bec398254db9c2",
            "922cc6578cbd45f49695341ffd78c9b2",
            "aa5f5b1e6ee24803ab8040340ce2e57e",
            "d0d798e146484ad0baa2927664a58b24",
            "f70eeeb1dfc84bba89a6b4ede5213cda",
            "e69d064dc8cc424dbe468205a4e97b26"
          ]
        },
        "id": "noQKPTVCOT2_",
        "outputId": "2fdfd58a-2bc2-4043-eeed-d76f9b7b705d"
      },
      "outputs": [
        {
          "data": {
            "text/html": [],
            "text/plain": [
              "<IPython.core.display.HTML object>"
            ]
          },
          "metadata": {},
          "output_type": "display_data"
        },
        {
          "data": {
            "text/html": [
              "<style type=\"text/css\">\n",
              "#T_5cd61_row10_col0, #T_5cd61_row10_col1, #T_5cd61_row10_col2, #T_5cd61_row10_col3, #T_5cd61_row10_col4, #T_5cd61_row10_col5 {\n",
              "  background: yellow;\n",
              "}\n",
              "</style>\n",
              "<table id=\"T_5cd61\" class=\"dataframe\">\n",
              "  <thead>\n",
              "    <tr>\n",
              "      <th class=\"blank level0\" >&nbsp;</th>\n",
              "      <th id=\"T_5cd61_level0_col0\" class=\"col_heading level0 col0\" >MAE</th>\n",
              "      <th id=\"T_5cd61_level0_col1\" class=\"col_heading level0 col1\" >MSE</th>\n",
              "      <th id=\"T_5cd61_level0_col2\" class=\"col_heading level0 col2\" >RMSE</th>\n",
              "      <th id=\"T_5cd61_level0_col3\" class=\"col_heading level0 col3\" >R2</th>\n",
              "      <th id=\"T_5cd61_level0_col4\" class=\"col_heading level0 col4\" >RMSLE</th>\n",
              "      <th id=\"T_5cd61_level0_col5\" class=\"col_heading level0 col5\" >MAPE</th>\n",
              "    </tr>\n",
              "    <tr>\n",
              "      <th class=\"index_name level0\" >Fold</th>\n",
              "      <th class=\"blank col0\" >&nbsp;</th>\n",
              "      <th class=\"blank col1\" >&nbsp;</th>\n",
              "      <th class=\"blank col2\" >&nbsp;</th>\n",
              "      <th class=\"blank col3\" >&nbsp;</th>\n",
              "      <th class=\"blank col4\" >&nbsp;</th>\n",
              "      <th class=\"blank col5\" >&nbsp;</th>\n",
              "    </tr>\n",
              "  </thead>\n",
              "  <tbody>\n",
              "    <tr>\n",
              "      <th id=\"T_5cd61_level0_row0\" class=\"row_heading level0 row0\" >0</th>\n",
              "      <td id=\"T_5cd61_row0_col0\" class=\"data row0 col0\" >0.0000</td>\n",
              "      <td id=\"T_5cd61_row0_col1\" class=\"data row0 col1\" >0.0000</td>\n",
              "      <td id=\"T_5cd61_row0_col2\" class=\"data row0 col2\" >0.0000</td>\n",
              "      <td id=\"T_5cd61_row0_col3\" class=\"data row0 col3\" >1.0000</td>\n",
              "      <td id=\"T_5cd61_row0_col4\" class=\"data row0 col4\" >0.0000</td>\n",
              "      <td id=\"T_5cd61_row0_col5\" class=\"data row0 col5\" >0.0000</td>\n",
              "    </tr>\n",
              "    <tr>\n",
              "      <th id=\"T_5cd61_level0_row1\" class=\"row_heading level0 row1\" >1</th>\n",
              "      <td id=\"T_5cd61_row1_col0\" class=\"data row1 col0\" >0.0000</td>\n",
              "      <td id=\"T_5cd61_row1_col1\" class=\"data row1 col1\" >0.0000</td>\n",
              "      <td id=\"T_5cd61_row1_col2\" class=\"data row1 col2\" >0.0000</td>\n",
              "      <td id=\"T_5cd61_row1_col3\" class=\"data row1 col3\" >1.0000</td>\n",
              "      <td id=\"T_5cd61_row1_col4\" class=\"data row1 col4\" >0.0000</td>\n",
              "      <td id=\"T_5cd61_row1_col5\" class=\"data row1 col5\" >0.0000</td>\n",
              "    </tr>\n",
              "    <tr>\n",
              "      <th id=\"T_5cd61_level0_row2\" class=\"row_heading level0 row2\" >2</th>\n",
              "      <td id=\"T_5cd61_row2_col0\" class=\"data row2 col0\" >0.0000</td>\n",
              "      <td id=\"T_5cd61_row2_col1\" class=\"data row2 col1\" >0.0000</td>\n",
              "      <td id=\"T_5cd61_row2_col2\" class=\"data row2 col2\" >0.0000</td>\n",
              "      <td id=\"T_5cd61_row2_col3\" class=\"data row2 col3\" >1.0000</td>\n",
              "      <td id=\"T_5cd61_row2_col4\" class=\"data row2 col4\" >0.0000</td>\n",
              "      <td id=\"T_5cd61_row2_col5\" class=\"data row2 col5\" >0.0000</td>\n",
              "    </tr>\n",
              "    <tr>\n",
              "      <th id=\"T_5cd61_level0_row3\" class=\"row_heading level0 row3\" >3</th>\n",
              "      <td id=\"T_5cd61_row3_col0\" class=\"data row3 col0\" >0.0000</td>\n",
              "      <td id=\"T_5cd61_row3_col1\" class=\"data row3 col1\" >0.0000</td>\n",
              "      <td id=\"T_5cd61_row3_col2\" class=\"data row3 col2\" >0.0000</td>\n",
              "      <td id=\"T_5cd61_row3_col3\" class=\"data row3 col3\" >1.0000</td>\n",
              "      <td id=\"T_5cd61_row3_col4\" class=\"data row3 col4\" >0.0000</td>\n",
              "      <td id=\"T_5cd61_row3_col5\" class=\"data row3 col5\" >0.0000</td>\n",
              "    </tr>\n",
              "    <tr>\n",
              "      <th id=\"T_5cd61_level0_row4\" class=\"row_heading level0 row4\" >4</th>\n",
              "      <td id=\"T_5cd61_row4_col0\" class=\"data row4 col0\" >0.0000</td>\n",
              "      <td id=\"T_5cd61_row4_col1\" class=\"data row4 col1\" >0.0000</td>\n",
              "      <td id=\"T_5cd61_row4_col2\" class=\"data row4 col2\" >0.0000</td>\n",
              "      <td id=\"T_5cd61_row4_col3\" class=\"data row4 col3\" >1.0000</td>\n",
              "      <td id=\"T_5cd61_row4_col4\" class=\"data row4 col4\" >0.0000</td>\n",
              "      <td id=\"T_5cd61_row4_col5\" class=\"data row4 col5\" >0.0000</td>\n",
              "    </tr>\n",
              "    <tr>\n",
              "      <th id=\"T_5cd61_level0_row5\" class=\"row_heading level0 row5\" >5</th>\n",
              "      <td id=\"T_5cd61_row5_col0\" class=\"data row5 col0\" >0.0000</td>\n",
              "      <td id=\"T_5cd61_row5_col1\" class=\"data row5 col1\" >0.0000</td>\n",
              "      <td id=\"T_5cd61_row5_col2\" class=\"data row5 col2\" >0.0000</td>\n",
              "      <td id=\"T_5cd61_row5_col3\" class=\"data row5 col3\" >1.0000</td>\n",
              "      <td id=\"T_5cd61_row5_col4\" class=\"data row5 col4\" >0.0000</td>\n",
              "      <td id=\"T_5cd61_row5_col5\" class=\"data row5 col5\" >0.0000</td>\n",
              "    </tr>\n",
              "    <tr>\n",
              "      <th id=\"T_5cd61_level0_row6\" class=\"row_heading level0 row6\" >6</th>\n",
              "      <td id=\"T_5cd61_row6_col0\" class=\"data row6 col0\" >0.0000</td>\n",
              "      <td id=\"T_5cd61_row6_col1\" class=\"data row6 col1\" >0.0000</td>\n",
              "      <td id=\"T_5cd61_row6_col2\" class=\"data row6 col2\" >0.0000</td>\n",
              "      <td id=\"T_5cd61_row6_col3\" class=\"data row6 col3\" >1.0000</td>\n",
              "      <td id=\"T_5cd61_row6_col4\" class=\"data row6 col4\" >0.0000</td>\n",
              "      <td id=\"T_5cd61_row6_col5\" class=\"data row6 col5\" >0.0000</td>\n",
              "    </tr>\n",
              "    <tr>\n",
              "      <th id=\"T_5cd61_level0_row7\" class=\"row_heading level0 row7\" >7</th>\n",
              "      <td id=\"T_5cd61_row7_col0\" class=\"data row7 col0\" >0.0000</td>\n",
              "      <td id=\"T_5cd61_row7_col1\" class=\"data row7 col1\" >0.0000</td>\n",
              "      <td id=\"T_5cd61_row7_col2\" class=\"data row7 col2\" >0.0000</td>\n",
              "      <td id=\"T_5cd61_row7_col3\" class=\"data row7 col3\" >1.0000</td>\n",
              "      <td id=\"T_5cd61_row7_col4\" class=\"data row7 col4\" >0.0000</td>\n",
              "      <td id=\"T_5cd61_row7_col5\" class=\"data row7 col5\" >0.0000</td>\n",
              "    </tr>\n",
              "    <tr>\n",
              "      <th id=\"T_5cd61_level0_row8\" class=\"row_heading level0 row8\" >8</th>\n",
              "      <td id=\"T_5cd61_row8_col0\" class=\"data row8 col0\" >0.0000</td>\n",
              "      <td id=\"T_5cd61_row8_col1\" class=\"data row8 col1\" >0.0000</td>\n",
              "      <td id=\"T_5cd61_row8_col2\" class=\"data row8 col2\" >0.0000</td>\n",
              "      <td id=\"T_5cd61_row8_col3\" class=\"data row8 col3\" >1.0000</td>\n",
              "      <td id=\"T_5cd61_row8_col4\" class=\"data row8 col4\" >0.0000</td>\n",
              "      <td id=\"T_5cd61_row8_col5\" class=\"data row8 col5\" >0.0000</td>\n",
              "    </tr>\n",
              "    <tr>\n",
              "      <th id=\"T_5cd61_level0_row9\" class=\"row_heading level0 row9\" >9</th>\n",
              "      <td id=\"T_5cd61_row9_col0\" class=\"data row9 col0\" >0.0000</td>\n",
              "      <td id=\"T_5cd61_row9_col1\" class=\"data row9 col1\" >0.0000</td>\n",
              "      <td id=\"T_5cd61_row9_col2\" class=\"data row9 col2\" >0.0000</td>\n",
              "      <td id=\"T_5cd61_row9_col3\" class=\"data row9 col3\" >1.0000</td>\n",
              "      <td id=\"T_5cd61_row9_col4\" class=\"data row9 col4\" >0.0000</td>\n",
              "      <td id=\"T_5cd61_row9_col5\" class=\"data row9 col5\" >0.0000</td>\n",
              "    </tr>\n",
              "    <tr>\n",
              "      <th id=\"T_5cd61_level0_row10\" class=\"row_heading level0 row10\" >Mean</th>\n",
              "      <td id=\"T_5cd61_row10_col0\" class=\"data row10 col0\" >0.0000</td>\n",
              "      <td id=\"T_5cd61_row10_col1\" class=\"data row10 col1\" >0.0000</td>\n",
              "      <td id=\"T_5cd61_row10_col2\" class=\"data row10 col2\" >0.0000</td>\n",
              "      <td id=\"T_5cd61_row10_col3\" class=\"data row10 col3\" >1.0000</td>\n",
              "      <td id=\"T_5cd61_row10_col4\" class=\"data row10 col4\" >0.0000</td>\n",
              "      <td id=\"T_5cd61_row10_col5\" class=\"data row10 col5\" >0.0000</td>\n",
              "    </tr>\n",
              "    <tr>\n",
              "      <th id=\"T_5cd61_level0_row11\" class=\"row_heading level0 row11\" >Std</th>\n",
              "      <td id=\"T_5cd61_row11_col0\" class=\"data row11 col0\" >0.0000</td>\n",
              "      <td id=\"T_5cd61_row11_col1\" class=\"data row11 col1\" >0.0000</td>\n",
              "      <td id=\"T_5cd61_row11_col2\" class=\"data row11 col2\" >0.0000</td>\n",
              "      <td id=\"T_5cd61_row11_col3\" class=\"data row11 col3\" >0.0000</td>\n",
              "      <td id=\"T_5cd61_row11_col4\" class=\"data row11 col4\" >0.0000</td>\n",
              "      <td id=\"T_5cd61_row11_col5\" class=\"data row11 col5\" >0.0000</td>\n",
              "    </tr>\n",
              "  </tbody>\n",
              "</table>\n"
            ],
            "text/plain": [
              "<pandas.io.formats.style.Styler at 0x7f0ac9715640>"
            ]
          },
          "metadata": {},
          "output_type": "display_data"
        },
        {
          "data": {
            "application/vnd.jupyter.widget-view+json": {
              "model_id": "7e1907d093e940eebdd4b0be6c22a0a2",
              "version_major": 2,
              "version_minor": 0
            },
            "text/plain": [
              "Processing:   0%|          | 0/4 [00:00<?, ?it/s]"
            ]
          },
          "metadata": {
            "application/vnd.jupyter.widget-view+json": {
              "colab": {
                "custom_widget_manager": {
                  "url": "https://ssl.gstatic.com/colaboratory-static/widgets/colab-cdn-widget-manager/b3e629b1971e1542/manager.min.js"
                }
              }
            }
          },
          "output_type": "display_data"
        },
        {
          "data": {
            "text/html": [],
            "text/plain": [
              "<IPython.core.display.HTML object>"
            ]
          },
          "metadata": {},
          "output_type": "display_data"
        }
      ],
      "source": [
        "model = create_model('knn')"
      ]
    },
    {
      "cell_type": "code",
      "execution_count": 131,
      "metadata": {
        "id": "iNGRbG00OVxY"
      },
      "outputs": [],
      "source": [
        "x = data.drop(['Price'], axis=1)\n",
        "y = data[\"Price\"]"
      ]
    },
    {
      "cell_type": "code",
      "execution_count": 132,
      "metadata": {
        "id": "Jo-iN0b2OW4f"
      },
      "outputs": [],
      "source": [
        "from sklearn.model_selection import train_test_split\n",
        "x_train, x_test, y_train, y_test = train_test_split(x, y, test_size=0.2, random_state=42)"
      ]
    },
    {
      "cell_type": "code",
      "execution_count": 133,
      "metadata": {
        "colab": {
          "base_uri": "https://localhost:8080/",
          "height": 74
        },
        "id": "pH8HQcguOYK8",
        "outputId": "33eaf2f6-2f30-4baa-b4b2-18006d67577e"
      },
      "outputs": [
        {
          "data": {
            "text/html": [
              "<style>#sk-container-id-1 {color: black;background-color: white;}#sk-container-id-1 pre{padding: 0;}#sk-container-id-1 div.sk-toggleable {background-color: white;}#sk-container-id-1 label.sk-toggleable__label {cursor: pointer;display: block;width: 100%;margin-bottom: 0;padding: 0.3em;box-sizing: border-box;text-align: center;}#sk-container-id-1 label.sk-toggleable__label-arrow:before {content: \"▸\";float: left;margin-right: 0.25em;color: #696969;}#sk-container-id-1 label.sk-toggleable__label-arrow:hover:before {color: black;}#sk-container-id-1 div.sk-estimator:hover label.sk-toggleable__label-arrow:before {color: black;}#sk-container-id-1 div.sk-toggleable__content {max-height: 0;max-width: 0;overflow: hidden;text-align: left;background-color: #f0f8ff;}#sk-container-id-1 div.sk-toggleable__content pre {margin: 0.2em;color: black;border-radius: 0.25em;background-color: #f0f8ff;}#sk-container-id-1 input.sk-toggleable__control:checked~div.sk-toggleable__content {max-height: 200px;max-width: 100%;overflow: auto;}#sk-container-id-1 input.sk-toggleable__control:checked~label.sk-toggleable__label-arrow:before {content: \"▾\";}#sk-container-id-1 div.sk-estimator input.sk-toggleable__control:checked~label.sk-toggleable__label {background-color: #d4ebff;}#sk-container-id-1 div.sk-label input.sk-toggleable__control:checked~label.sk-toggleable__label {background-color: #d4ebff;}#sk-container-id-1 input.sk-hidden--visually {border: 0;clip: rect(1px 1px 1px 1px);clip: rect(1px, 1px, 1px, 1px);height: 1px;margin: -1px;overflow: hidden;padding: 0;position: absolute;width: 1px;}#sk-container-id-1 div.sk-estimator {font-family: monospace;background-color: #f0f8ff;border: 1px dotted black;border-radius: 0.25em;box-sizing: border-box;margin-bottom: 0.5em;}#sk-container-id-1 div.sk-estimator:hover {background-color: #d4ebff;}#sk-container-id-1 div.sk-parallel-item::after {content: \"\";width: 100%;border-bottom: 1px solid gray;flex-grow: 1;}#sk-container-id-1 div.sk-label:hover label.sk-toggleable__label {background-color: #d4ebff;}#sk-container-id-1 div.sk-serial::before {content: \"\";position: absolute;border-left: 1px solid gray;box-sizing: border-box;top: 0;bottom: 0;left: 50%;z-index: 0;}#sk-container-id-1 div.sk-serial {display: flex;flex-direction: column;align-items: center;background-color: white;padding-right: 0.2em;padding-left: 0.2em;position: relative;}#sk-container-id-1 div.sk-item {position: relative;z-index: 1;}#sk-container-id-1 div.sk-parallel {display: flex;align-items: stretch;justify-content: center;background-color: white;position: relative;}#sk-container-id-1 div.sk-item::before, #sk-container-id-1 div.sk-parallel-item::before {content: \"\";position: absolute;border-left: 1px solid gray;box-sizing: border-box;top: 0;bottom: 0;left: 50%;z-index: -1;}#sk-container-id-1 div.sk-parallel-item {display: flex;flex-direction: column;z-index: 1;position: relative;background-color: white;}#sk-container-id-1 div.sk-parallel-item:first-child::after {align-self: flex-end;width: 50%;}#sk-container-id-1 div.sk-parallel-item:last-child::after {align-self: flex-start;width: 50%;}#sk-container-id-1 div.sk-parallel-item:only-child::after {width: 0;}#sk-container-id-1 div.sk-dashed-wrapped {border: 1px dashed gray;margin: 0 0.4em 0.5em 0.4em;box-sizing: border-box;padding-bottom: 0.4em;background-color: white;}#sk-container-id-1 div.sk-label label {font-family: monospace;font-weight: bold;display: inline-block;line-height: 1.2em;}#sk-container-id-1 div.sk-label-container {text-align: center;}#sk-container-id-1 div.sk-container {/* jupyter's `normalize.less` sets `[hidden] { display: none; }` but bootstrap.min.css set `[hidden] { display: none !important; }` so we also need the `!important` here to be able to override the default hidden behavior on the sphinx rendered scikit-learn.org. See: https://github.com/scikit-learn/scikit-learn/issues/21755 */display: inline-block !important;position: relative;}#sk-container-id-1 div.sk-text-repr-fallback {display: none;}</style><div id=\"sk-container-id-1\" class=\"sk-top-container\"><div class=\"sk-text-repr-fallback\"><pre>KNeighborsRegressor(n_jobs=-1)</pre><b>In a Jupyter environment, please rerun this cell to show the HTML representation or trust the notebook. <br />On GitHub, the HTML representation is unable to render, please try loading this page with nbviewer.org.</b></div><div class=\"sk-container\" hidden><div class=\"sk-item\"><div class=\"sk-estimator sk-toggleable\"><input class=\"sk-toggleable__control sk-hidden--visually\" id=\"sk-estimator-id-1\" type=\"checkbox\" checked><label for=\"sk-estimator-id-1\" class=\"sk-toggleable__label sk-toggleable__label-arrow\">KNeighborsRegressor</label><div class=\"sk-toggleable__content\"><pre>KNeighborsRegressor(n_jobs=-1)</pre></div></div></div></div></div>"
            ],
            "text/plain": [
              "KNeighborsRegressor(n_jobs=-1)"
            ]
          },
          "execution_count": 133,
          "metadata": {},
          "output_type": "execute_result"
        }
      ],
      "source": [
        "model.fit(x_train, y_train)"
      ]
    },
    {
      "cell_type": "code",
      "execution_count": 136,
      "metadata": {
        "colab": {
          "base_uri": "https://localhost:8080/"
        },
        "id": "ViwobXNMOtVC",
        "outputId": "209ef28d-1f6b-4cb3-a427-d6f3c91dabac"
      },
      "outputs": [
        {
          "name": "stdout",
          "output_type": "stream",
          "text": [
            "Enter No of Bedrooms : 2\n",
            "Enter No of Bathrooms : 2\n",
            "Enter Location (Poranki-0, Kankipadu-1, Benz Circle-2, Gannavaram-3, PNT Colony-4, Labbipet-5, Gunadala-6, Gollapudi-7, Enikepadu-8, Vidhyadharpuram-9, Penamaluru-10, Payakapuram-11) : 5\n",
            "Enter Size (in sqrt) : 1000\n",
            "Enter Status of Property (Resale-0, Under Construction-1, Ready to move-:2) : 2\n",
            "Enter Direction of Facing (Not Mentioned-0, East-1, West-2, NorthEast-3) : 1\n",
            "Enter the Type of Property (Apartment-0, Independent House-1, Residential Plot-2) : 1\n",
            "Predicted Price: ₹ 56.0 Lakhs\n"
          ]
        }
      ],
      "source": [
        "import numpy as np\n",
        "\n",
        "bed = int(input('Enter No of Bedrooms : '))\n",
        "bath = int(input('Enter No of Bathrooms : '))\n",
        "loc = int(input('Enter Location (Poranki-0, Kankipadu-1, Benz Circle-2, Gannavaram-3, PNT Colony-4, Labbipet-5, Gunadala-6, Gollapudi-7, Enikepadu-8, Vidhyadharpuram-9, Penamaluru-10, Payakapuram-11) : '))\n",
        "size = int(input('Enter Size (in sqrt) : '))\n",
        "status = int(input('Enter Status of Property (Resale-0, Under Construction-1, Ready to move-:2) : '))\n",
        "face = int(input('Enter Direction of Facing (Not Mentioned-0, East-1, West-2, NorthEast-3) : '))\n",
        "Type = int(input('Enter the Type of Property (Apartment-0, Independent House-1, Residential Plot-2) : '))\n",
        "\n",
        "input_data = np.array([[bed, bath, loc, size, status, face, Type]])\n",
        "\n",
        "# Predict the price for user input\n",
        "predicted_price = model.predict(input_data)[0]\n",
        "\n",
        "print(\"Predicted Price: ₹\", predicted_price, 'Lakhs')"
      ]
    },
    {
      "cell_type": "code",
      "execution_count": 137,
      "metadata": {
        "id": "EVETrrFXQeSo"
      },
      "outputs": [],
      "source": [
        "import pickle\n",
        "\n",
        "with open('house_prediction_model.pkl', 'wb') as file:\n",
        "    pickle.dump(model, file)"
      ]
    }
  ],
  "metadata": {
    "colab": {
      "provenance": []
    },
    "kernelspec": {
      "display_name": "Python 3",
      "name": "python3"
    },
    "language_info": {
      "name": "python"
    },
    "widgets": {
      "application/vnd.jupyter.widget-state+json": {
        "0c218262704048989c49c36affc96e07": {
          "model_module": "@jupyter-widgets/controls",
          "model_module_version": "1.5.0",
          "model_name": "FloatProgressModel",
          "state": {
            "_dom_classes": [],
            "_model_module": "@jupyter-widgets/controls",
            "_model_module_version": "1.5.0",
            "_model_name": "FloatProgressModel",
            "_view_count": null,
            "_view_module": "@jupyter-widgets/controls",
            "_view_module_version": "1.5.0",
            "_view_name": "ProgressView",
            "bar_style": "",
            "description": "",
            "description_tooltip": null,
            "layout": "IPY_MODEL_aa5f5b1e6ee24803ab8040340ce2e57e",
            "max": 4,
            "min": 0,
            "orientation": "horizontal",
            "style": "IPY_MODEL_d0d798e146484ad0baa2927664a58b24",
            "value": 4
          }
        },
        "16cc22bdeb744c03aad74e873f91a0e9": {
          "model_module": "@jupyter-widgets/controls",
          "model_module_version": "1.5.0",
          "model_name": "HTMLModel",
          "state": {
            "_dom_classes": [],
            "_model_module": "@jupyter-widgets/controls",
            "_model_module_version": "1.5.0",
            "_model_name": "HTMLModel",
            "_view_count": null,
            "_view_module": "@jupyter-widgets/controls",
            "_view_module_version": "1.5.0",
            "_view_name": "HTMLView",
            "description": "",
            "description_tooltip": null,
            "layout": "IPY_MODEL_884f41b799e7409891318c3e31aa8b6f",
            "placeholder": "​",
            "style": "IPY_MODEL_5dd8b0e9a69045e4b0a3c4e3de375d10",
            "value": " 81/81 [00:38&lt;00:00,  4.45it/s]"
          }
        },
        "221fa32a88194135b1d1d7d584a5d712": {
          "model_module": "@jupyter-widgets/base",
          "model_module_version": "1.2.0",
          "model_name": "LayoutModel",
          "state": {
            "_model_module": "@jupyter-widgets/base",
            "_model_module_version": "1.2.0",
            "_model_name": "LayoutModel",
            "_view_count": null,
            "_view_module": "@jupyter-widgets/base",
            "_view_module_version": "1.2.0",
            "_view_name": "LayoutView",
            "align_content": null,
            "align_items": null,
            "align_self": null,
            "border": null,
            "bottom": null,
            "display": null,
            "flex": null,
            "flex_flow": null,
            "grid_area": null,
            "grid_auto_columns": null,
            "grid_auto_flow": null,
            "grid_auto_rows": null,
            "grid_column": null,
            "grid_gap": null,
            "grid_row": null,
            "grid_template_areas": null,
            "grid_template_columns": null,
            "grid_template_rows": null,
            "height": null,
            "justify_content": null,
            "justify_items": null,
            "left": null,
            "margin": null,
            "max_height": null,
            "max_width": null,
            "min_height": null,
            "min_width": null,
            "object_fit": null,
            "object_position": null,
            "order": null,
            "overflow": null,
            "overflow_x": null,
            "overflow_y": null,
            "padding": null,
            "right": null,
            "top": null,
            "visibility": "hidden",
            "width": null
          }
        },
        "2fce5b6c8df0440586b2e29c03a34cfd": {
          "model_module": "@jupyter-widgets/controls",
          "model_module_version": "1.5.0",
          "model_name": "HTMLModel",
          "state": {
            "_dom_classes": [],
            "_model_module": "@jupyter-widgets/controls",
            "_model_module_version": "1.5.0",
            "_model_name": "HTMLModel",
            "_view_count": null,
            "_view_module": "@jupyter-widgets/controls",
            "_view_module_version": "1.5.0",
            "_view_name": "HTMLView",
            "description": "",
            "description_tooltip": null,
            "layout": "IPY_MODEL_c3fcf21cb02248c8a2bec398254db9c2",
            "placeholder": "​",
            "style": "IPY_MODEL_922cc6578cbd45f49695341ffd78c9b2",
            "value": "Processing:  75%"
          }
        },
        "3369906a7b604b43b252b757cf7be8a6": {
          "model_module": "@jupyter-widgets/controls",
          "model_module_version": "1.5.0",
          "model_name": "HBoxModel",
          "state": {
            "_dom_classes": [],
            "_model_module": "@jupyter-widgets/controls",
            "_model_module_version": "1.5.0",
            "_model_name": "HBoxModel",
            "_view_count": null,
            "_view_module": "@jupyter-widgets/controls",
            "_view_module_version": "1.5.0",
            "_view_name": "HBoxView",
            "box_style": "",
            "children": [
              "IPY_MODEL_af6ca1c30e344a7fa3bf8379b6fa61a9",
              "IPY_MODEL_5d3fb7cbac5b4459a6f7feac59d51e0d",
              "IPY_MODEL_16cc22bdeb744c03aad74e873f91a0e9"
            ],
            "layout": "IPY_MODEL_221fa32a88194135b1d1d7d584a5d712"
          }
        },
        "5d3fb7cbac5b4459a6f7feac59d51e0d": {
          "model_module": "@jupyter-widgets/controls",
          "model_module_version": "1.5.0",
          "model_name": "FloatProgressModel",
          "state": {
            "_dom_classes": [],
            "_model_module": "@jupyter-widgets/controls",
            "_model_module_version": "1.5.0",
            "_model_name": "FloatProgressModel",
            "_view_count": null,
            "_view_module": "@jupyter-widgets/controls",
            "_view_module_version": "1.5.0",
            "_view_name": "ProgressView",
            "bar_style": "",
            "description": "",
            "description_tooltip": null,
            "layout": "IPY_MODEL_db342564c5854379940acdf3d4c84c29",
            "max": 81,
            "min": 0,
            "orientation": "horizontal",
            "style": "IPY_MODEL_c361ab343af748cdb8295ca2608b4998",
            "value": 81
          }
        },
        "5dd8b0e9a69045e4b0a3c4e3de375d10": {
          "model_module": "@jupyter-widgets/controls",
          "model_module_version": "1.5.0",
          "model_name": "DescriptionStyleModel",
          "state": {
            "_model_module": "@jupyter-widgets/controls",
            "_model_module_version": "1.5.0",
            "_model_name": "DescriptionStyleModel",
            "_view_count": null,
            "_view_module": "@jupyter-widgets/base",
            "_view_module_version": "1.2.0",
            "_view_name": "StyleView",
            "description_width": ""
          }
        },
        "75b0399e58d940f9a97ecb57d51a2882": {
          "model_module": "@jupyter-widgets/base",
          "model_module_version": "1.2.0",
          "model_name": "LayoutModel",
          "state": {
            "_model_module": "@jupyter-widgets/base",
            "_model_module_version": "1.2.0",
            "_model_name": "LayoutModel",
            "_view_count": null,
            "_view_module": "@jupyter-widgets/base",
            "_view_module_version": "1.2.0",
            "_view_name": "LayoutView",
            "align_content": null,
            "align_items": null,
            "align_self": null,
            "border": null,
            "bottom": null,
            "display": null,
            "flex": null,
            "flex_flow": null,
            "grid_area": null,
            "grid_auto_columns": null,
            "grid_auto_flow": null,
            "grid_auto_rows": null,
            "grid_column": null,
            "grid_gap": null,
            "grid_row": null,
            "grid_template_areas": null,
            "grid_template_columns": null,
            "grid_template_rows": null,
            "height": null,
            "justify_content": null,
            "justify_items": null,
            "left": null,
            "margin": null,
            "max_height": null,
            "max_width": null,
            "min_height": null,
            "min_width": null,
            "object_fit": null,
            "object_position": null,
            "order": null,
            "overflow": null,
            "overflow_x": null,
            "overflow_y": null,
            "padding": null,
            "right": null,
            "top": null,
            "visibility": "hidden",
            "width": null
          }
        },
        "7e1907d093e940eebdd4b0be6c22a0a2": {
          "model_module": "@jupyter-widgets/controls",
          "model_module_version": "1.5.0",
          "model_name": "HBoxModel",
          "state": {
            "_dom_classes": [],
            "_model_module": "@jupyter-widgets/controls",
            "_model_module_version": "1.5.0",
            "_model_name": "HBoxModel",
            "_view_count": null,
            "_view_module": "@jupyter-widgets/controls",
            "_view_module_version": "1.5.0",
            "_view_name": "HBoxView",
            "box_style": "",
            "children": [
              "IPY_MODEL_2fce5b6c8df0440586b2e29c03a34cfd",
              "IPY_MODEL_0c218262704048989c49c36affc96e07",
              "IPY_MODEL_d9311658eb2c4aef83d5c2ea6c3c3115"
            ],
            "layout": "IPY_MODEL_75b0399e58d940f9a97ecb57d51a2882"
          }
        },
        "884f41b799e7409891318c3e31aa8b6f": {
          "model_module": "@jupyter-widgets/base",
          "model_module_version": "1.2.0",
          "model_name": "LayoutModel",
          "state": {
            "_model_module": "@jupyter-widgets/base",
            "_model_module_version": "1.2.0",
            "_model_name": "LayoutModel",
            "_view_count": null,
            "_view_module": "@jupyter-widgets/base",
            "_view_module_version": "1.2.0",
            "_view_name": "LayoutView",
            "align_content": null,
            "align_items": null,
            "align_self": null,
            "border": null,
            "bottom": null,
            "display": null,
            "flex": null,
            "flex_flow": null,
            "grid_area": null,
            "grid_auto_columns": null,
            "grid_auto_flow": null,
            "grid_auto_rows": null,
            "grid_column": null,
            "grid_gap": null,
            "grid_row": null,
            "grid_template_areas": null,
            "grid_template_columns": null,
            "grid_template_rows": null,
            "height": null,
            "justify_content": null,
            "justify_items": null,
            "left": null,
            "margin": null,
            "max_height": null,
            "max_width": null,
            "min_height": null,
            "min_width": null,
            "object_fit": null,
            "object_position": null,
            "order": null,
            "overflow": null,
            "overflow_x": null,
            "overflow_y": null,
            "padding": null,
            "right": null,
            "top": null,
            "visibility": null,
            "width": null
          }
        },
        "922cc6578cbd45f49695341ffd78c9b2": {
          "model_module": "@jupyter-widgets/controls",
          "model_module_version": "1.5.0",
          "model_name": "DescriptionStyleModel",
          "state": {
            "_model_module": "@jupyter-widgets/controls",
            "_model_module_version": "1.5.0",
            "_model_name": "DescriptionStyleModel",
            "_view_count": null,
            "_view_module": "@jupyter-widgets/base",
            "_view_module_version": "1.2.0",
            "_view_name": "StyleView",
            "description_width": ""
          }
        },
        "aa5f5b1e6ee24803ab8040340ce2e57e": {
          "model_module": "@jupyter-widgets/base",
          "model_module_version": "1.2.0",
          "model_name": "LayoutModel",
          "state": {
            "_model_module": "@jupyter-widgets/base",
            "_model_module_version": "1.2.0",
            "_model_name": "LayoutModel",
            "_view_count": null,
            "_view_module": "@jupyter-widgets/base",
            "_view_module_version": "1.2.0",
            "_view_name": "LayoutView",
            "align_content": null,
            "align_items": null,
            "align_self": null,
            "border": null,
            "bottom": null,
            "display": null,
            "flex": null,
            "flex_flow": null,
            "grid_area": null,
            "grid_auto_columns": null,
            "grid_auto_flow": null,
            "grid_auto_rows": null,
            "grid_column": null,
            "grid_gap": null,
            "grid_row": null,
            "grid_template_areas": null,
            "grid_template_columns": null,
            "grid_template_rows": null,
            "height": null,
            "justify_content": null,
            "justify_items": null,
            "left": null,
            "margin": null,
            "max_height": null,
            "max_width": null,
            "min_height": null,
            "min_width": null,
            "object_fit": null,
            "object_position": null,
            "order": null,
            "overflow": null,
            "overflow_x": null,
            "overflow_y": null,
            "padding": null,
            "right": null,
            "top": null,
            "visibility": null,
            "width": null
          }
        },
        "af6ca1c30e344a7fa3bf8379b6fa61a9": {
          "model_module": "@jupyter-widgets/controls",
          "model_module_version": "1.5.0",
          "model_name": "HTMLModel",
          "state": {
            "_dom_classes": [],
            "_model_module": "@jupyter-widgets/controls",
            "_model_module_version": "1.5.0",
            "_model_name": "HTMLModel",
            "_view_count": null,
            "_view_module": "@jupyter-widgets/controls",
            "_view_module_version": "1.5.0",
            "_view_name": "HTMLView",
            "description": "",
            "description_tooltip": null,
            "layout": "IPY_MODEL_c70348cba14b47b6870a85b400c664d3",
            "placeholder": "​",
            "style": "IPY_MODEL_b33e379e246046e2b6862a8188063986",
            "value": "Processing: 100%"
          }
        },
        "b33e379e246046e2b6862a8188063986": {
          "model_module": "@jupyter-widgets/controls",
          "model_module_version": "1.5.0",
          "model_name": "DescriptionStyleModel",
          "state": {
            "_model_module": "@jupyter-widgets/controls",
            "_model_module_version": "1.5.0",
            "_model_name": "DescriptionStyleModel",
            "_view_count": null,
            "_view_module": "@jupyter-widgets/base",
            "_view_module_version": "1.2.0",
            "_view_name": "StyleView",
            "description_width": ""
          }
        },
        "c361ab343af748cdb8295ca2608b4998": {
          "model_module": "@jupyter-widgets/controls",
          "model_module_version": "1.5.0",
          "model_name": "ProgressStyleModel",
          "state": {
            "_model_module": "@jupyter-widgets/controls",
            "_model_module_version": "1.5.0",
            "_model_name": "ProgressStyleModel",
            "_view_count": null,
            "_view_module": "@jupyter-widgets/base",
            "_view_module_version": "1.2.0",
            "_view_name": "StyleView",
            "bar_color": null,
            "description_width": ""
          }
        },
        "c3fcf21cb02248c8a2bec398254db9c2": {
          "model_module": "@jupyter-widgets/base",
          "model_module_version": "1.2.0",
          "model_name": "LayoutModel",
          "state": {
            "_model_module": "@jupyter-widgets/base",
            "_model_module_version": "1.2.0",
            "_model_name": "LayoutModel",
            "_view_count": null,
            "_view_module": "@jupyter-widgets/base",
            "_view_module_version": "1.2.0",
            "_view_name": "LayoutView",
            "align_content": null,
            "align_items": null,
            "align_self": null,
            "border": null,
            "bottom": null,
            "display": null,
            "flex": null,
            "flex_flow": null,
            "grid_area": null,
            "grid_auto_columns": null,
            "grid_auto_flow": null,
            "grid_auto_rows": null,
            "grid_column": null,
            "grid_gap": null,
            "grid_row": null,
            "grid_template_areas": null,
            "grid_template_columns": null,
            "grid_template_rows": null,
            "height": null,
            "justify_content": null,
            "justify_items": null,
            "left": null,
            "margin": null,
            "max_height": null,
            "max_width": null,
            "min_height": null,
            "min_width": null,
            "object_fit": null,
            "object_position": null,
            "order": null,
            "overflow": null,
            "overflow_x": null,
            "overflow_y": null,
            "padding": null,
            "right": null,
            "top": null,
            "visibility": null,
            "width": null
          }
        },
        "c70348cba14b47b6870a85b400c664d3": {
          "model_module": "@jupyter-widgets/base",
          "model_module_version": "1.2.0",
          "model_name": "LayoutModel",
          "state": {
            "_model_module": "@jupyter-widgets/base",
            "_model_module_version": "1.2.0",
            "_model_name": "LayoutModel",
            "_view_count": null,
            "_view_module": "@jupyter-widgets/base",
            "_view_module_version": "1.2.0",
            "_view_name": "LayoutView",
            "align_content": null,
            "align_items": null,
            "align_self": null,
            "border": null,
            "bottom": null,
            "display": null,
            "flex": null,
            "flex_flow": null,
            "grid_area": null,
            "grid_auto_columns": null,
            "grid_auto_flow": null,
            "grid_auto_rows": null,
            "grid_column": null,
            "grid_gap": null,
            "grid_row": null,
            "grid_template_areas": null,
            "grid_template_columns": null,
            "grid_template_rows": null,
            "height": null,
            "justify_content": null,
            "justify_items": null,
            "left": null,
            "margin": null,
            "max_height": null,
            "max_width": null,
            "min_height": null,
            "min_width": null,
            "object_fit": null,
            "object_position": null,
            "order": null,
            "overflow": null,
            "overflow_x": null,
            "overflow_y": null,
            "padding": null,
            "right": null,
            "top": null,
            "visibility": null,
            "width": null
          }
        },
        "d0d798e146484ad0baa2927664a58b24": {
          "model_module": "@jupyter-widgets/controls",
          "model_module_version": "1.5.0",
          "model_name": "ProgressStyleModel",
          "state": {
            "_model_module": "@jupyter-widgets/controls",
            "_model_module_version": "1.5.0",
            "_model_name": "ProgressStyleModel",
            "_view_count": null,
            "_view_module": "@jupyter-widgets/base",
            "_view_module_version": "1.2.0",
            "_view_name": "StyleView",
            "bar_color": null,
            "description_width": ""
          }
        },
        "d9311658eb2c4aef83d5c2ea6c3c3115": {
          "model_module": "@jupyter-widgets/controls",
          "model_module_version": "1.5.0",
          "model_name": "HTMLModel",
          "state": {
            "_dom_classes": [],
            "_model_module": "@jupyter-widgets/controls",
            "_model_module_version": "1.5.0",
            "_model_name": "HTMLModel",
            "_view_count": null,
            "_view_module": "@jupyter-widgets/controls",
            "_view_module_version": "1.5.0",
            "_view_name": "HTMLView",
            "description": "",
            "description_tooltip": null,
            "layout": "IPY_MODEL_f70eeeb1dfc84bba89a6b4ede5213cda",
            "placeholder": "​",
            "style": "IPY_MODEL_e69d064dc8cc424dbe468205a4e97b26",
            "value": " 3/4 [00:01&lt;00:00,  2.79it/s]"
          }
        },
        "db342564c5854379940acdf3d4c84c29": {
          "model_module": "@jupyter-widgets/base",
          "model_module_version": "1.2.0",
          "model_name": "LayoutModel",
          "state": {
            "_model_module": "@jupyter-widgets/base",
            "_model_module_version": "1.2.0",
            "_model_name": "LayoutModel",
            "_view_count": null,
            "_view_module": "@jupyter-widgets/base",
            "_view_module_version": "1.2.0",
            "_view_name": "LayoutView",
            "align_content": null,
            "align_items": null,
            "align_self": null,
            "border": null,
            "bottom": null,
            "display": null,
            "flex": null,
            "flex_flow": null,
            "grid_area": null,
            "grid_auto_columns": null,
            "grid_auto_flow": null,
            "grid_auto_rows": null,
            "grid_column": null,
            "grid_gap": null,
            "grid_row": null,
            "grid_template_areas": null,
            "grid_template_columns": null,
            "grid_template_rows": null,
            "height": null,
            "justify_content": null,
            "justify_items": null,
            "left": null,
            "margin": null,
            "max_height": null,
            "max_width": null,
            "min_height": null,
            "min_width": null,
            "object_fit": null,
            "object_position": null,
            "order": null,
            "overflow": null,
            "overflow_x": null,
            "overflow_y": null,
            "padding": null,
            "right": null,
            "top": null,
            "visibility": null,
            "width": null
          }
        },
        "e69d064dc8cc424dbe468205a4e97b26": {
          "model_module": "@jupyter-widgets/controls",
          "model_module_version": "1.5.0",
          "model_name": "DescriptionStyleModel",
          "state": {
            "_model_module": "@jupyter-widgets/controls",
            "_model_module_version": "1.5.0",
            "_model_name": "DescriptionStyleModel",
            "_view_count": null,
            "_view_module": "@jupyter-widgets/base",
            "_view_module_version": "1.2.0",
            "_view_name": "StyleView",
            "description_width": ""
          }
        },
        "f70eeeb1dfc84bba89a6b4ede5213cda": {
          "model_module": "@jupyter-widgets/base",
          "model_module_version": "1.2.0",
          "model_name": "LayoutModel",
          "state": {
            "_model_module": "@jupyter-widgets/base",
            "_model_module_version": "1.2.0",
            "_model_name": "LayoutModel",
            "_view_count": null,
            "_view_module": "@jupyter-widgets/base",
            "_view_module_version": "1.2.0",
            "_view_name": "LayoutView",
            "align_content": null,
            "align_items": null,
            "align_self": null,
            "border": null,
            "bottom": null,
            "display": null,
            "flex": null,
            "flex_flow": null,
            "grid_area": null,
            "grid_auto_columns": null,
            "grid_auto_flow": null,
            "grid_auto_rows": null,
            "grid_column": null,
            "grid_gap": null,
            "grid_row": null,
            "grid_template_areas": null,
            "grid_template_columns": null,
            "grid_template_rows": null,
            "height": null,
            "justify_content": null,
            "justify_items": null,
            "left": null,
            "margin": null,
            "max_height": null,
            "max_width": null,
            "min_height": null,
            "min_width": null,
            "object_fit": null,
            "object_position": null,
            "order": null,
            "overflow": null,
            "overflow_x": null,
            "overflow_y": null,
            "padding": null,
            "right": null,
            "top": null,
            "visibility": null,
            "width": null
          }
        }
      }
    }
  },
  "nbformat": 4,
  "nbformat_minor": 0
}
